{
 "cells": [
  {
   "cell_type": "code",
   "execution_count": null,
   "metadata": {},
   "outputs": [],
   "source": [
    "import os"
   ]
  },
  {
   "cell_type": "code",
   "execution_count": null,
   "metadata": {},
   "outputs": [],
   "source": [
    "googleimagesdownload -k \"tudor house\" -s large -l 500 -o houses -i tudor -cd /usr/local/bin/chromedriver"
   ]
  },
  {
   "cell_type": "code",
   "execution_count": null,
   "metadata": {},
   "outputs": [],
   "source": [
    "googleimagesdownload -k \"tudor house\" -s large -l 10 -o /Volumes/external -i tudor -cd /usr/local/bin/chromedriver"
   ]
  },
  {
   "cell_type": "code",
   "execution_count": null,
   "metadata": {},
   "outputs": [],
   "source": [
    "googleimagesdownload -k \"tudor house\" -s large -l 1000 -i tudor -cd /usr/local/bin/chromedriver"
   ]
  },
  {
   "cell_type": "code",
   "execution_count": null,
   "metadata": {},
   "outputs": [],
   "source": [
    "googleimagesdownload -k \"tudor house\" -s large -l 500 -o /Volumes/external -i tudor -cd /usr/local/bin/chromedriver"
   ]
  },
  {
   "cell_type": "code",
   "execution_count": null,
   "metadata": {},
   "outputs": [],
   "source": [
    "googleimagesdownload -k \"tudor house\" -s large -l 500 -o Creative\\ Cloud\\ Files/ -i tudor -cd /usr/local/bin/chromedriver"
   ]
  },
  {
   "cell_type": "code",
   "execution_count": null,
   "metadata": {},
   "outputs": [],
   "source": [
    "googleimagesdownload -k \"tudor house architecture\" -s large -wr '{\"time_min\":\"09/01/2013\",\"time_max\":\"09/30/2016\"}' -l 500 -o /Volumes/external -i tudor -cd /usr/local/bin/chromedriver"
   ]
  },
  {
   "cell_type": "code",
   "execution_count": null,
   "metadata": {},
   "outputs": [],
   "source": [
    "googleimagesdownload -k \"tudor house architecture\" -s medium -wr '{\"time_min\":\"09/01/2013\",\"time_max\":\"09/30/2016\"}' -l 500 -o /Volumes/external -i tudor -cd /usr/local/bin/chromedriver"
   ]
  },
  {
   "cell_type": "code",
   "execution_count": null,
   "metadata": {},
   "outputs": [],
   "source": [
    "googleimagesdownload -k \"tudor house\" -s medium -l 500 -i tudor -cd /usr/local/bin/chromedriver"
   ]
  },
  {
   "cell_type": "code",
   "execution_count": null,
   "metadata": {},
   "outputs": [],
   "source": [
    "googleimagesdownload -k \"tudor house\" -s large -l 500 -i tudor -cd /usr/local/bin/chromedriver"
   ]
  },
  {
   "cell_type": "code",
   "execution_count": null,
   "metadata": {},
   "outputs": [],
   "source": [
    "googleimagesdownload -k \"tudor house architecture\" -s medium -wr '{\"time_min\":\"10/01/2016\",\"time_max\":\"01/24/2019\"}' -l 500 -o /Volumes/external -i tudor -cd /usr/local/bin/chromedriver"
   ]
  },
  {
   "cell_type": "code",
   "execution_count": null,
   "metadata": {},
   "outputs": [],
   "source": [
    "googleimagesdownload -k \"tudor house architecture\" -s large -wr '{\"time_min\":\"10/01/2016\",\"time_max\":\"01/24/2019\"}' -l 500 -o /Volumes/external -i tudor -cd /usr/local/bin/chromedriver"
   ]
  },
  {
   "cell_type": "code",
   "execution_count": null,
   "metadata": {},
   "outputs": [],
   "source": [
    "#script to rename image files as consecutively as (architectual style) followed by (numbers)\n",
    "path = '/Users/evanvaughan/flatiron/mod5/image_rename/'\n",
    "house_type = 'houses_tudor'\n",
    "i = 0\n",
    "for filename in os.listdir(path):\n",
    "    os.rename(os.path.join(path,filename), os.path.join(path, house_type+str(i)+'.jpg'))\n",
    "    i = i +1"
   ]
  }
 ],
 "metadata": {
  "kernelspec": {
   "display_name": "Python 3",
   "language": "python",
   "name": "python3"
  },
  "language_info": {
   "codemirror_mode": {
    "name": "ipython",
    "version": 3
   },
   "file_extension": ".py",
   "mimetype": "text/x-python",
   "name": "python",
   "nbconvert_exporter": "python",
   "pygments_lexer": "ipython3",
   "version": "3.6.7"
  }
 },
 "nbformat": 4,
 "nbformat_minor": 2
}
