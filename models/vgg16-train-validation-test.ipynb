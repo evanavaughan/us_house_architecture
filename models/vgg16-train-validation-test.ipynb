{
 "cells": [
  {
   "cell_type": "code",
   "execution_count": null,
   "metadata": {},
   "outputs": [],
   "source": [
    "#validation_data_dir = 'storage/test'\n",
    "#test_data_dir = 'storage/train'"
   ]
  },
  {
   "cell_type": "code",
   "execution_count": 1,
   "metadata": {},
   "outputs": [
    {
     "name": "stderr",
     "output_type": "stream",
     "text": [
      "Using TensorFlow backend.\n"
     ]
    }
   ],
   "source": [
    "import pandas as pd\n",
    "import numpy as np \n",
    "import itertools\n",
    "import keras\n",
    "from keras.applications.vgg16 import VGG16\n",
    "from sklearn import metrics\n",
    "from sklearn.metrics import confusion_matrix\n",
    "from keras.preprocessing.image import ImageDataGenerator, img_to_array, load_img \n",
    "from keras.models import Sequential \n",
    "from keras import optimizers\n",
    "from keras.layers import Dropout, Flatten, Dense, LeakyReLU \n",
    "from keras import applications  \n",
    "from keras.utils.np_utils import to_categorical\n",
    "from keras.callbacks import ModelCheckpoint, EarlyStopping, TensorBoard, ReduceLROnPlateau\n",
    "from keras import backend as K\n",
    "\n",
    "\n",
    "from sklearn.metrics import f1_score, precision_score, recall_score\n",
    "from sklearn.metrics import classification_report, confusion_matrix\n",
    "import matplotlib.pyplot as plt \n",
    "import matplotlib.image as mpimg\n",
    "%matplotlib inline\n",
    "import math  \n",
    "import datetime\n",
    "import time"
   ]
  },
  {
   "cell_type": "code",
   "execution_count": 2,
   "metadata": {},
   "outputs": [],
   "source": [
    "#Default dimensions we found online\n",
    "img_width, img_height = 224, 224  \n",
    "   \n",
    "#Create a bottleneck file\n",
    "top_model_weights_path = 'bottleneck_fc_model.h5' \n",
    "\n",
    "# loading up our datasets\n",
    "train_data_dir = 'storage/train'  \n",
    "validation_data_dir = 'storage/test'\n",
    "test_data_dir = 'storage/valid'\n",
    "   \n",
    "# number of epochs to train top model  \n",
    "epochs = 7 #this has been changed after multiple model run  \n",
    "# batch size used by flow_from_directory and predict_generator  \n",
    "batch_size = 50"
   ]
  },
  {
   "cell_type": "code",
   "execution_count": 3,
   "metadata": {},
   "outputs": [],
   "source": [
    "vgg16 = VGG16(include_top=False, weights='imagenet')"
   ]
  },
  {
   "cell_type": "code",
   "execution_count": 4,
   "metadata": {},
   "outputs": [],
   "source": [
    "datagen = ImageDataGenerator(rescale=1. / 255,\n",
    "    featurewise_center=True,\n",
    "    featurewise_std_normalization=True,\n",
    "    rotation_range=20,\n",
    "    width_shift_range=0.2,\n",
    "    height_shift_range=0.2,\n",
    "    horizontal_flip=True)  "
   ]
  },
  {
   "cell_type": "code",
   "execution_count": 5,
   "metadata": {},
   "outputs": [
    {
     "name": "stdout",
     "output_type": "stream",
     "text": [
      "Found 3867 images belonging to 6 classes.\n"
     ]
    },
    {
     "name": "stderr",
     "output_type": "stream",
     "text": [
      "/home/evan13/miniconda3/envs/tensorflow/lib/python3.6/site-packages/keras_preprocessing/image/image_data_generator.py:700: UserWarning: This ImageDataGenerator specifies `featurewise_center`, but it hasn't been fit on any training data. Fit it first by calling `.fit(numpy_data)`.\n",
      "  warnings.warn('This ImageDataGenerator specifies '\n",
      "/home/evan13/miniconda3/envs/tensorflow/lib/python3.6/site-packages/keras_preprocessing/image/image_data_generator.py:708: UserWarning: This ImageDataGenerator specifies `featurewise_std_normalization`, but it hasn't been fit on any training data. Fit it first by calling `.fit(numpy_data)`.\n",
      "  warnings.warn('This ImageDataGenerator specifies '\n"
     ]
    },
    {
     "name": "stdout",
     "output_type": "stream",
     "text": [
      "Time:  0:09:51.957371\n"
     ]
    }
   ],
   "source": [
    "from PIL import ImageFile\n",
    "ImageFile.LOAD_TRUNCATED_IMAGES = True\n",
    "\n",
    "start = datetime.datetime.now()\n",
    "\n",
    "generator = datagen.flow_from_directory(\n",
    "    train_data_dir,\n",
    "    target_size=(img_width, img_height),\n",
    "    batch_size=batch_size,\n",
    "    class_mode=None,\n",
    "    shuffle=False)\n",
    "\n",
    "nb_train_samples = len(generator.filenames)\n",
    "num_classes = len(generator.class_indices)\n",
    "\n",
    "predict_size_train = int(math.ceil(nb_train_samples / batch_size))\n",
    "\n",
    "bottleneck_features_train = vgg16.predict_generator(generator, predict_size_train)\n",
    "\n",
    "np.save('bottleneck_features_train-vgg16.npy', bottleneck_features_train)\n",
    "\n",
    "end= datetime.datetime.now() \n",
    "elapsed= end-start \n",
    "print ('Time: ', elapsed)"
   ]
  },
  {
   "cell_type": "code",
   "execution_count": 6,
   "metadata": {},
   "outputs": [
    {
     "name": "stdout",
     "output_type": "stream",
     "text": [
      "Found 1018 images belonging to 6 classes.\n"
     ]
    },
    {
     "name": "stderr",
     "output_type": "stream",
     "text": [
      "/home/evan13/miniconda3/envs/tensorflow/lib/python3.6/site-packages/PIL/TiffImagePlugin.py:763: UserWarning: Possibly corrupt EXIF data.  Expecting to read 33554432 bytes but only got 0. Skipping tag 516\n",
      "  \" Skipping tag %s\" % (size, len(data), tag))\n",
      "/home/evan13/miniconda3/envs/tensorflow/lib/python3.6/site-packages/PIL/TiffImagePlugin.py:763: UserWarning: Possibly corrupt EXIF data.  Expecting to read 69337600 bytes but only got 0. Skipping tag 3072\n",
      "  \" Skipping tag %s\" % (size, len(data), tag))\n",
      "/home/evan13/miniconda3/envs/tensorflow/lib/python3.6/site-packages/PIL/TiffImagePlugin.py:763: UserWarning: Possibly corrupt EXIF data.  Expecting to read 19988480 bytes but only got 0. Skipping tag 0\n",
      "  \" Skipping tag %s\" % (size, len(data), tag))\n",
      "/home/evan13/miniconda3/envs/tensorflow/lib/python3.6/site-packages/PIL/TiffImagePlugin.py:763: UserWarning: Possibly corrupt EXIF data.  Expecting to read 2046820352 bytes but only got 0. Skipping tag 0\n",
      "  \" Skipping tag %s\" % (size, len(data), tag))\n",
      "/home/evan13/miniconda3/envs/tensorflow/lib/python3.6/site-packages/PIL/TiffImagePlugin.py:763: UserWarning: Possibly corrupt EXIF data.  Expecting to read 262144 bytes but only got 0. Skipping tag 0\n",
      "  \" Skipping tag %s\" % (size, len(data), tag))\n",
      "/home/evan13/miniconda3/envs/tensorflow/lib/python3.6/site-packages/PIL/TiffImagePlugin.py:763: UserWarning: Possibly corrupt EXIF data.  Expecting to read 196608 bytes but only got 0. Skipping tag 0\n",
      "  \" Skipping tag %s\" % (size, len(data), tag))\n",
      "/home/evan13/miniconda3/envs/tensorflow/lib/python3.6/site-packages/PIL/TiffImagePlugin.py:763: UserWarning: Possibly corrupt EXIF data.  Expecting to read 3466067968 bytes but only got 0. Skipping tag 0\n",
      "  \" Skipping tag %s\" % (size, len(data), tag))\n",
      "/home/evan13/miniconda3/envs/tensorflow/lib/python3.6/site-packages/PIL/TiffImagePlugin.py:763: UserWarning: Possibly corrupt EXIF data.  Expecting to read 131072 bytes but only got 0. Skipping tag 15\n",
      "  \" Skipping tag %s\" % (size, len(data), tag))\n",
      "/home/evan13/miniconda3/envs/tensorflow/lib/python3.6/site-packages/PIL/TiffImagePlugin.py:780: UserWarning: Corrupt EXIF data.  Expecting to read 12 bytes but only got 4. \n",
      "  warnings.warn(str(msg))\n"
     ]
    },
    {
     "name": "stdout",
     "output_type": "stream",
     "text": [
      "Time:  0:02:22.475254\n"
     ]
    }
   ],
   "source": [
    "from PIL import ImageFile\n",
    "ImageFile.LOAD_TRUNCATED_IMAGES = True\n",
    "\n",
    "start = datetime.datetime.now() \n",
    "\n",
    "datagen = ImageDataGenerator(rescale=1. / 255)\n",
    "\n",
    "generator = datagen.flow_from_directory(\n",
    "    validation_data_dir,\n",
    "    target_size=(img_width, img_height),\n",
    "    batch_size=batch_size,\n",
    "    class_mode=None,\n",
    "    shuffle=False)\n",
    "\n",
    "nb_validation_samples = len(generator.filenames)\n",
    "\n",
    "predict_size_validation = int(math.ceil(nb_validation_samples / batch_size))\n",
    "\n",
    "bottleneck_features_validation = vgg16.predict_generator(\n",
    "generator, predict_size_validation)\n",
    "\n",
    "np.save('bottleneck_features_validation-vgg16.npy', bottleneck_features_validation)\n",
    "\n",
    "end= datetime.datetime.now() \n",
    "elapsed= end-start \n",
    "print ('Time: ', elapsed)"
   ]
  },
  {
   "cell_type": "code",
   "execution_count": 7,
   "metadata": {},
   "outputs": [
    {
     "name": "stdout",
     "output_type": "stream",
     "text": [
      "Found 1030 images belonging to 6 classes.\n",
      "Time:  0:02:23.510824\n"
     ]
    }
   ],
   "source": [
    "from PIL import ImageFile\n",
    "ImageFile.LOAD_TRUNCATED_IMAGES = True\n",
    "\n",
    "start = datetime.datetime.now()\n",
    "\n",
    "datagen = ImageDataGenerator(rescale=1. / 255)\n",
    "\n",
    "generator = datagen.flow_from_directory(\n",
    "    test_data_dir,\n",
    "    target_size=(img_width, img_height),\n",
    "    batch_size=batch_size,\n",
    "    class_mode=None,\n",
    "    shuffle=False)\n",
    "\n",
    "nb_test_samples = len(generator.filenames)\n",
    "\n",
    "predict_size_test = int(math.ceil(nb_test_samples / batch_size))\n",
    "\n",
    "bottleneck_features_test = vgg16.predict_generator(\n",
    "generator, predict_size_test)\n",
    "\n",
    "np.save('bottleneck_features_test-vgg16.npy', bottleneck_features_test) \n",
    "\n",
    "end= datetime.datetime.now() \n",
    "elapsed= end-start \n",
    "print ('Time: ', elapsed)"
   ]
  },
  {
   "cell_type": "code",
   "execution_count": null,
   "metadata": {},
   "outputs": [],
   "source": []
  },
  {
   "cell_type": "code",
   "execution_count": 3,
   "metadata": {},
   "outputs": [],
   "source": [
    "datagen_top = ImageDataGenerator(rescale=1./255)"
   ]
  },
  {
   "cell_type": "code",
   "execution_count": 4,
   "metadata": {},
   "outputs": [
    {
     "name": "stdout",
     "output_type": "stream",
     "text": [
      "Found 3867 images belonging to 6 classes.\n"
     ]
    }
   ],
   "source": [
    "#training data\n",
    "generator_top = datagen_top.flow_from_directory(  \n",
    "         train_data_dir,  \n",
    "         target_size=(img_width, img_height),  \n",
    "         batch_size=batch_size,  \n",
    "         class_mode='categorical',  \n",
    "         shuffle=False)  \n",
    "   \n",
    "nb_train_samples = len(generator_top.filenames)  \n",
    "num_classes = len(generator_top.class_indices)  \n",
    "   \n",
    "# load the bottleneck features saved earlier  \n",
    "train_data = np.load('bottleneck_features_train-vgg16.npy')  \n",
    "   \n",
    "# get the class lebels for the training data, in the original order  \n",
    "train_labels = generator_top.classes  \n",
    "   \n",
    "# convert the training labels to categorical vectors  \n",
    "train_labels = to_categorical(train_labels, num_classes=num_classes)"
   ]
  },
  {
   "cell_type": "code",
   "execution_count": 5,
   "metadata": {},
   "outputs": [
    {
     "name": "stdout",
     "output_type": "stream",
     "text": [
      "Found 1018 images belonging to 6 classes.\n"
     ]
    }
   ],
   "source": [
    "#validation data\n",
    "generator_top = datagen_top.flow_from_directory(  \n",
    "         validation_data_dir,  \n",
    "         target_size=(img_width, img_height),  \n",
    "         batch_size=batch_size,  \n",
    "         class_mode=None,  \n",
    "         shuffle=False)  \n",
    "   \n",
    "nb_validation_samples = len(generator_top.filenames)  \n",
    "   \n",
    "validation_data = np.load('bottleneck_features_validation-vgg16.npy')  \n",
    "   \n",
    "\n",
    "validation_labels = generator_top.classes  \n",
    "validation_labels = to_categorical(validation_labels, num_classes=num_classes)"
   ]
  },
  {
   "cell_type": "code",
   "execution_count": 6,
   "metadata": {},
   "outputs": [
    {
     "name": "stdout",
     "output_type": "stream",
     "text": [
      "Found 1030 images belonging to 6 classes.\n"
     ]
    }
   ],
   "source": [
    "#testing data\n",
    "generator_top = datagen_top.flow_from_directory(  \n",
    "         test_data_dir,  \n",
    "         target_size=(img_width, img_height),  \n",
    "         batch_size=batch_size,  \n",
    "         class_mode=None,  \n",
    "         shuffle=False)  \n",
    "   \n",
    "nb_test_samples = len(generator_top.filenames)  \n",
    "   \n",
    "test_data = np.load('bottleneck_features_test-vgg16.npy')  \n",
    "   \n",
    "\n",
    "test_labels = generator_top.classes  \n",
    "test_labels = to_categorical(test_labels, num_classes=num_classes)"
   ]
  },
  {
   "cell_type": "code",
   "execution_count": 7,
   "metadata": {},
   "outputs": [
    {
     "name": "stdout",
     "output_type": "stream",
     "text": [
      "Train on 3867 samples, validate on 1018 samples\n",
      "Epoch 1/70\n",
      "3867/3867 [==============================] - 3s 866us/step - loss: 1.8004 - acc: 0.2783 - val_loss: 1.2652 - val_acc: 0.6277\n",
      "Epoch 2/70\n",
      "3867/3867 [==============================] - 2s 623us/step - loss: 1.4077 - acc: 0.4533 - val_loss: 0.9766 - val_acc: 0.6542\n",
      "Epoch 3/70\n",
      "3867/3867 [==============================] - 3s 803us/step - loss: 1.2062 - acc: 0.5400 - val_loss: 0.7831 - val_acc: 0.7436\n",
      "Epoch 4/70\n",
      "3867/3867 [==============================] - 3s 778us/step - loss: 1.0604 - acc: 0.6067 - val_loss: 0.7826 - val_acc: 0.7161\n",
      "Epoch 5/70\n",
      "3867/3867 [==============================] - 3s 797us/step - loss: 0.9459 - acc: 0.6442 - val_loss: 0.6886 - val_acc: 0.7583\n",
      "Epoch 6/70\n",
      "3867/3867 [==============================] - 3s 810us/step - loss: 0.8430 - acc: 0.6868 - val_loss: 0.5712 - val_acc: 0.8075\n",
      "Epoch 7/70\n",
      "3867/3867 [==============================] - 3s 793us/step - loss: 0.7501 - acc: 0.7298 - val_loss: 0.5107 - val_acc: 0.8251\n",
      "Epoch 8/70\n",
      "3867/3867 [==============================] - 3s 780us/step - loss: 0.6622 - acc: 0.7528 - val_loss: 0.5562 - val_acc: 0.8026\n",
      "Epoch 9/70\n",
      "3867/3867 [==============================] - 3s 775us/step - loss: 0.6256 - acc: 0.7766 - val_loss: 0.5585 - val_acc: 0.8045\n",
      "Epoch 10/70\n",
      "3867/3867 [==============================] - 3s 804us/step - loss: 0.5381 - acc: 0.8048 - val_loss: 0.4831 - val_acc: 0.8301\n",
      "Epoch 11/70\n",
      "3867/3867 [==============================] - 3s 743us/step - loss: 0.4686 - acc: 0.8304 - val_loss: 0.5423 - val_acc: 0.8143\n",
      "Epoch 12/70\n",
      "3867/3867 [==============================] - 2s 617us/step - loss: 0.4521 - acc: 0.8386 - val_loss: 0.5421 - val_acc: 0.8202\n",
      "Epoch 13/70\n",
      "3867/3867 [==============================] - 3s 775us/step - loss: 0.3855 - acc: 0.8645 - val_loss: 0.6132 - val_acc: 0.7976\n",
      "Epoch 14/70\n",
      "3867/3867 [==============================] - 3s 807us/step - loss: 0.3579 - acc: 0.8743 - val_loss: 0.5270 - val_acc: 0.8114\n",
      "Epoch 15/70\n",
      "3867/3867 [==============================] - 3s 806us/step - loss: 0.3145 - acc: 0.8870 - val_loss: 0.4712 - val_acc: 0.8350\n",
      "Epoch 16/70\n",
      "3867/3867 [==============================] - 3s 780us/step - loss: 0.2978 - acc: 0.8914 - val_loss: 0.4634 - val_acc: 0.8477\n",
      "Epoch 17/70\n",
      "3867/3867 [==============================] - 3s 775us/step - loss: 0.2597 - acc: 0.9092 - val_loss: 0.5359 - val_acc: 0.8350\n",
      "Epoch 18/70\n",
      "3867/3867 [==============================] - 3s 805us/step - loss: 0.2348 - acc: 0.9204 - val_loss: 0.5568 - val_acc: 0.8310\n",
      "Epoch 19/70\n",
      "3867/3867 [==============================] - 3s 802us/step - loss: 0.2244 - acc: 0.9154 - val_loss: 0.7195 - val_acc: 0.7937\n",
      "Epoch 20/70\n",
      "3867/3867 [==============================] - 3s 781us/step - loss: 0.2008 - acc: 0.9299 - val_loss: 0.7706 - val_acc: 0.7711\n",
      "Epoch 21/70\n",
      "3867/3867 [==============================] - 3s 771us/step - loss: 0.1849 - acc: 0.9338 - val_loss: 0.6264 - val_acc: 0.8075\n",
      "Epoch 22/70\n",
      "3867/3867 [==============================] - 3s 653us/step - loss: 0.1124 - acc: 0.9633 - val_loss: 0.5215 - val_acc: 0.8458\n",
      "Epoch 23/70\n",
      "3867/3867 [==============================] - 3s 717us/step - loss: 0.0858 - acc: 0.9760 - val_loss: 0.5191 - val_acc: 0.8468\n",
      "Epoch 24/70\n",
      "3867/3867 [==============================] - 3s 804us/step - loss: 0.0776 - acc: 0.9765 - val_loss: 0.5174 - val_acc: 0.8546\n",
      "Epoch 25/70\n",
      "3867/3867 [==============================] - 3s 779us/step - loss: 0.0716 - acc: 0.9780 - val_loss: 0.5144 - val_acc: 0.8556\n",
      "Epoch 26/70\n",
      "3867/3867 [==============================] - 3s 781us/step - loss: 0.0629 - acc: 0.9850 - val_loss: 0.5343 - val_acc: 0.8536\n",
      "Epoch 27/70\n",
      "3867/3867 [==============================] - 3s 797us/step - loss: 0.0668 - acc: 0.9814 - val_loss: 0.5300 - val_acc: 0.8576\n",
      "Epoch 28/70\n",
      "3867/3867 [==============================] - 3s 785us/step - loss: 0.0641 - acc: 0.9809 - val_loss: 0.5408 - val_acc: 0.8517\n",
      "1030/1030 [==============================] - 0s 248us/step\n",
      "[INFO] accuracy: 84.37%\n",
      "[INFO] Loss: 0.6287318832304293\n",
      "Time:  0:01:34.747760\n"
     ]
    }
   ],
   "source": [
    "NAME = 'VGG 16-{}'.format(int(time.time()))\n",
    "\n",
    "#This is the best model we found. For additional models, check out I_notebook.ipynb\n",
    "start = datetime.datetime.now()\n",
    "model = Sequential()\n",
    "\n",
    "model.add(Flatten(input_shape=train_data.shape[1:]))\n",
    "\n",
    "model.add(Dense(256, activation='linear'))\n",
    "model.add(LeakyReLU(alpha=0.3))\n",
    "model.add(Dropout(0.5))\n",
    "model.add(Dense(128, activation='linear'))\n",
    "model.add(LeakyReLU(alpha=0.3))\n",
    "model.add(Dropout(0.5))  \n",
    "model.add(Dense(64, activation='linear'))\n",
    "model.add(LeakyReLU(alpha=0.3))\n",
    "model.add(Dropout(0.3)) \n",
    "model.add(Dense(num_classes, activation='softmax'))\n",
    "\n",
    "model.compile(loss='categorical_crossentropy',\n",
    "              optimizer=optimizers.RMSprop(lr=1e-4),\n",
    "              metrics=['acc'])\n",
    "\n",
    "tensorboard = TensorBoard(log_dir='logs/{}'.format(NAME))\n",
    "reduce_lr = ReduceLROnPlateau(monitor='val_acc', factor=0.1, patience=5)\n",
    "checkpoint = ModelCheckpoint(filepath='xception.h5', monitor='val_acc', save_best_only=True)\n",
    "early_stop = EarlyStopping(monitor='acc', patience=2)\n",
    "\n",
    "history = model.fit(train_data, train_labels,\n",
    "                    epochs=70,\n",
    "                    batch_size=batch_size,\n",
    "                    validation_data=(validation_data, validation_labels),\n",
    "                    validation_split=0.2,\n",
    "                    callbacks=[tensorboard, reduce_lr, checkpoint, early_stop])  \n",
    "\n",
    "model.save_weights(top_model_weights_path)  \n",
    "\n",
    "(eval_loss, eval_accuracy) = model.evaluate(  \n",
    " test_data, test_labels, batch_size=batch_size, verbose=1)\n",
    "\n",
    "print(\"[INFO] accuracy: {:.2f}%\".format(eval_accuracy * 100))  \n",
    "print(\"[INFO] Loss: {}\".format(eval_loss))  \n",
    "end= datetime.datetime.now()\n",
    "elapsed= end-start\n",
    "print ('Time: ', elapsed)"
   ]
  },
  {
   "cell_type": "code",
   "execution_count": 13,
   "metadata": {},
   "outputs": [],
   "source": [
    "import cv2"
   ]
  },
  {
   "cell_type": "code",
   "execution_count": 14,
   "metadata": {},
   "outputs": [
    {
     "data": {
      "text/plain": [
       "(195, 146, 3)"
      ]
     },
     "execution_count": 14,
     "metadata": {},
     "output_type": "execute_result"
    }
   ],
   "source": [
    "img = cv2.imread('image-1.jpg')\n",
    "img.shape"
   ]
  },
  {
   "cell_type": "code",
   "execution_count": 15,
   "metadata": {},
   "outputs": [],
   "source": [
    "img = np.expand_dims(img, axis=0)"
   ]
  },
  {
   "cell_type": "code",
   "execution_count": 16,
   "metadata": {},
   "outputs": [
    {
     "data": {
      "text/plain": [
       "(1, 195, 146, 3)"
      ]
     },
     "execution_count": 16,
     "metadata": {},
     "output_type": "execute_result"
    }
   ],
   "source": [
    "img.shape"
   ]
  },
  {
   "cell_type": "code",
   "execution_count": 17,
   "metadata": {},
   "outputs": [
    {
     "ename": "ValueError",
     "evalue": "Error when checking input: expected flatten_1_input to have 4 dimensions, but got array with shape (224, 672)",
     "output_type": "error",
     "traceback": [
      "\u001b[0;31m---------------------------------------------------------------------------\u001b[0m",
      "\u001b[0;31mValueError\u001b[0m                                Traceback (most recent call last)",
      "\u001b[0;32m<ipython-input-17-54ec14a0ac07>\u001b[0m in \u001b[0;36m<module>\u001b[0;34m\u001b[0m\n\u001b[1;32m     17\u001b[0m \u001b[0;31m# Should this instead be: test_image.reshape(img_width, img_height, 3) ??\u001b[0m\u001b[0;34m\u001b[0m\u001b[0;34m\u001b[0m\u001b[0m\n\u001b[1;32m     18\u001b[0m \u001b[0;34m\u001b[0m\u001b[0m\n\u001b[0;32m---> 19\u001b[0;31m \u001b[0mresult\u001b[0m \u001b[0;34m=\u001b[0m \u001b[0mmodel\u001b[0m\u001b[0;34m.\u001b[0m\u001b[0mpredict\u001b[0m\u001b[0;34m(\u001b[0m\u001b[0mtest_image\u001b[0m\u001b[0;34m,\u001b[0m \u001b[0mbatch_size\u001b[0m\u001b[0;34m=\u001b[0m\u001b[0;36m1\u001b[0m\u001b[0;34m)\u001b[0m\u001b[0;34m\u001b[0m\u001b[0m\n\u001b[0m\u001b[1;32m     20\u001b[0m \u001b[0mprint\u001b[0m\u001b[0;34m(\u001b[0m\u001b[0mresult\u001b[0m\u001b[0;34m)\u001b[0m\u001b[0;34m\u001b[0m\u001b[0m\n",
      "\u001b[0;32m~/miniconda3/envs/tensorflow/lib/python3.6/site-packages/keras/engine/training.py\u001b[0m in \u001b[0;36mpredict\u001b[0;34m(self, x, batch_size, verbose, steps)\u001b[0m\n\u001b[1;32m   1147\u001b[0m                              'argument.')\n\u001b[1;32m   1148\u001b[0m         \u001b[0;31m# Validate user data.\u001b[0m\u001b[0;34m\u001b[0m\u001b[0;34m\u001b[0m\u001b[0m\n\u001b[0;32m-> 1149\u001b[0;31m         \u001b[0mx\u001b[0m\u001b[0;34m,\u001b[0m \u001b[0m_\u001b[0m\u001b[0;34m,\u001b[0m \u001b[0m_\u001b[0m \u001b[0;34m=\u001b[0m \u001b[0mself\u001b[0m\u001b[0;34m.\u001b[0m\u001b[0m_standardize_user_data\u001b[0m\u001b[0;34m(\u001b[0m\u001b[0mx\u001b[0m\u001b[0;34m)\u001b[0m\u001b[0;34m\u001b[0m\u001b[0m\n\u001b[0m\u001b[1;32m   1150\u001b[0m         \u001b[0;32mif\u001b[0m \u001b[0mself\u001b[0m\u001b[0;34m.\u001b[0m\u001b[0mstateful\u001b[0m\u001b[0;34m:\u001b[0m\u001b[0;34m\u001b[0m\u001b[0m\n\u001b[1;32m   1151\u001b[0m             \u001b[0;32mif\u001b[0m \u001b[0mx\u001b[0m\u001b[0;34m[\u001b[0m\u001b[0;36m0\u001b[0m\u001b[0;34m]\u001b[0m\u001b[0;34m.\u001b[0m\u001b[0mshape\u001b[0m\u001b[0;34m[\u001b[0m\u001b[0;36m0\u001b[0m\u001b[0;34m]\u001b[0m \u001b[0;34m>\u001b[0m \u001b[0mbatch_size\u001b[0m \u001b[0;32mand\u001b[0m \u001b[0mx\u001b[0m\u001b[0;34m[\u001b[0m\u001b[0;36m0\u001b[0m\u001b[0;34m]\u001b[0m\u001b[0;34m.\u001b[0m\u001b[0mshape\u001b[0m\u001b[0;34m[\u001b[0m\u001b[0;36m0\u001b[0m\u001b[0;34m]\u001b[0m \u001b[0;34m%\u001b[0m \u001b[0mbatch_size\u001b[0m \u001b[0;34m!=\u001b[0m \u001b[0;36m0\u001b[0m\u001b[0;34m:\u001b[0m\u001b[0;34m\u001b[0m\u001b[0m\n",
      "\u001b[0;32m~/miniconda3/envs/tensorflow/lib/python3.6/site-packages/keras/engine/training.py\u001b[0m in \u001b[0;36m_standardize_user_data\u001b[0;34m(self, x, y, sample_weight, class_weight, check_array_lengths, batch_size)\u001b[0m\n\u001b[1;32m    749\u001b[0m             \u001b[0mfeed_input_shapes\u001b[0m\u001b[0;34m,\u001b[0m\u001b[0;34m\u001b[0m\u001b[0m\n\u001b[1;32m    750\u001b[0m             \u001b[0mcheck_batch_axis\u001b[0m\u001b[0;34m=\u001b[0m\u001b[0;32mFalse\u001b[0m\u001b[0;34m,\u001b[0m  \u001b[0;31m# Don't enforce the batch size.\u001b[0m\u001b[0;34m\u001b[0m\u001b[0m\n\u001b[0;32m--> 751\u001b[0;31m             exception_prefix='input')\n\u001b[0m\u001b[1;32m    752\u001b[0m \u001b[0;34m\u001b[0m\u001b[0m\n\u001b[1;32m    753\u001b[0m         \u001b[0;32mif\u001b[0m \u001b[0my\u001b[0m \u001b[0;32mis\u001b[0m \u001b[0;32mnot\u001b[0m \u001b[0;32mNone\u001b[0m\u001b[0;34m:\u001b[0m\u001b[0;34m\u001b[0m\u001b[0m\n",
      "\u001b[0;32m~/miniconda3/envs/tensorflow/lib/python3.6/site-packages/keras/engine/training_utils.py\u001b[0m in \u001b[0;36mstandardize_input_data\u001b[0;34m(data, names, shapes, check_batch_axis, exception_prefix)\u001b[0m\n\u001b[1;32m    126\u001b[0m                         \u001b[0;34m': expected '\u001b[0m \u001b[0;34m+\u001b[0m \u001b[0mnames\u001b[0m\u001b[0;34m[\u001b[0m\u001b[0mi\u001b[0m\u001b[0;34m]\u001b[0m \u001b[0;34m+\u001b[0m \u001b[0;34m' to have '\u001b[0m \u001b[0;34m+\u001b[0m\u001b[0;34m\u001b[0m\u001b[0m\n\u001b[1;32m    127\u001b[0m                         \u001b[0mstr\u001b[0m\u001b[0;34m(\u001b[0m\u001b[0mlen\u001b[0m\u001b[0;34m(\u001b[0m\u001b[0mshape\u001b[0m\u001b[0;34m)\u001b[0m\u001b[0;34m)\u001b[0m \u001b[0;34m+\u001b[0m \u001b[0;34m' dimensions, but got array '\u001b[0m\u001b[0;34m\u001b[0m\u001b[0m\n\u001b[0;32m--> 128\u001b[0;31m                         'with shape ' + str(data_shape))\n\u001b[0m\u001b[1;32m    129\u001b[0m                 \u001b[0;32mif\u001b[0m \u001b[0;32mnot\u001b[0m \u001b[0mcheck_batch_axis\u001b[0m\u001b[0;34m:\u001b[0m\u001b[0;34m\u001b[0m\u001b[0m\n\u001b[1;32m    130\u001b[0m                     \u001b[0mdata_shape\u001b[0m \u001b[0;34m=\u001b[0m \u001b[0mdata_shape\u001b[0m\u001b[0;34m[\u001b[0m\u001b[0;36m1\u001b[0m\u001b[0;34m:\u001b[0m\u001b[0;34m]\u001b[0m\u001b[0;34m\u001b[0m\u001b[0m\n",
      "\u001b[0;31mValueError\u001b[0m: Error when checking input: expected flatten_1_input to have 4 dimensions, but got array with shape (224, 672)"
     ]
    }
   ],
   "source": [
    "from keras.models import load_model\n",
    "from keras.preprocessing import image\n",
    "import numpy as np\n",
    "\n",
    "# dimensions of our images    -----   are these then grayscale (black and white)?\n",
    "img_width, img_height = 224, 224\n",
    "\n",
    "# load the model we saved\n",
    "#model = load_model('bottleneck_fc_model.h5')\n",
    "\n",
    "# Get test image ready\n",
    "test_image = image.load_img('image-1.jpg', target_size=(img_width, img_height))\n",
    "test_image = image.img_to_array(test_image)\n",
    "test_image = np.expand_dims(test_image, axis=0)\n",
    "\n",
    "test_image = test_image.reshape(img_width, img_height*3)    # Ambiguity!\n",
    "# Should this instead be: test_image.reshape(img_width, img_height, 3) ??\n",
    "\n",
    "result = model.predict(test_image, batch_size=1)\n",
    "print(result)"
   ]
  },
  {
   "cell_type": "code",
   "execution_count": 20,
   "metadata": {},
   "outputs": [
    {
     "ename": "SyntaxError",
     "evalue": "invalid syntax (<ipython-input-20-7ad50ff753b4>, line 1)",
     "output_type": "error",
     "traceback": [
      "\u001b[0;36m  File \u001b[0;32m\"<ipython-input-20-7ad50ff753b4>\"\u001b[0;36m, line \u001b[0;32m1\u001b[0m\n\u001b[0;31m    model.predict(, test_labels)\u001b[0m\n\u001b[0m                  ^\u001b[0m\n\u001b[0;31mSyntaxError\u001b[0m\u001b[0;31m:\u001b[0m invalid syntax\n"
     ]
    }
   ],
   "source": [
    "model.predict(, test_labels)"
   ]
  },
  {
   "cell_type": "code",
   "execution_count": 21,
   "metadata": {},
   "outputs": [
    {
     "name": "stdout",
     "output_type": "stream",
     "text": [
      "_________________________________________________________________\n",
      "Layer (type)                 Output Shape              Param #   \n",
      "=================================================================\n",
      "flatten_3 (Flatten)          (None, 25088)             0         \n",
      "_________________________________________________________________\n",
      "dense_9 (Dense)              (None, 500)               12544500  \n",
      "_________________________________________________________________\n",
      "dropout_7 (Dropout)          (None, 500)               0         \n",
      "_________________________________________________________________\n",
      "dense_10 (Dense)             (None, 100)               50100     \n",
      "_________________________________________________________________\n",
      "dropout_8 (Dropout)          (None, 100)               0         \n",
      "_________________________________________________________________\n",
      "dense_11 (Dense)             (None, 50)                5050      \n",
      "_________________________________________________________________\n",
      "dropout_9 (Dropout)          (None, 50)                0         \n",
      "_________________________________________________________________\n",
      "dense_12 (Dense)             (None, 6)                 306       \n",
      "=================================================================\n",
      "Total params: 12,599,956\n",
      "Trainable params: 12,599,956\n",
      "Non-trainable params: 0\n",
      "_________________________________________________________________\n"
     ]
    }
   ],
   "source": [
    "model.summary()"
   ]
  },
  {
   "cell_type": "code",
   "execution_count": 22,
   "metadata": {},
   "outputs": [
    {
     "data": {
      "image/png": "[encoded data removed]",
      "text/plain": [
       "<Figure size 432x288 with 1 Axes>"
      ]
     },
     "metadata": {
      "needs_background": "light"
     },
     "output_type": "display_data"
    },
    {
     "data": {
      "image/png": "[encoded data removed]",
      "text/plain": [
       "<Figure size 432x288 with 1 Axes>"
      ]
     },
     "metadata": {
      "needs_background": "light"
     },
     "output_type": "display_data"
    }
   ],
   "source": [
    "\n",
    "#Graphing our training and validation\n",
    "acc = history.history['acc']\n",
    "val_acc = history.history['val_acc']\n",
    "loss = history.history['loss']\n",
    "val_loss = history.history['val_loss']\n",
    "epochs = range(len(acc))\n",
    "\n",
    "plt.plot(epochs, acc, 'r', label='Training acc')\n",
    "plt.plot(epochs, val_acc, 'b', label='Validation acc')\n",
    "plt.title('Training and validation accuracy')\n",
    "plt.ylabel('accuracy')  \n",
    "plt.xlabel('epoch')\n",
    "plt.legend()\n",
    "plt.figure()\n",
    "plt.plot(epochs, loss, 'r', label='Training loss')\n",
    "plt.plot(epochs, val_loss, 'b', label='Validation loss')\n",
    "plt.title('Training and validation loss')\n",
    "plt.ylabel('loss')  \n",
    "plt.xlabel('epoch')\n",
    "plt.legend()\n",
    "plt.show()"
   ]
  },
  {
   "cell_type": "code",
   "execution_count": 25,
   "metadata": {},
   "outputs": [
    {
     "name": "stdout",
     "output_type": "stream",
     "text": [
      "1030/1030 [==============================] - 0s 462us/step\n"
     ]
    },
    {
     "data": {
      "text/plain": [
       "[1.3023903864101298, 0.8233009707580492]"
      ]
     },
     "execution_count": 25,
     "metadata": {},
     "output_type": "execute_result"
    }
   ],
   "source": [
    "results_train_vgg16 = model.evaluate(test_data, test_labels)\n",
    "results_train_vgg16"
   ]
  },
  {
   "cell_type": "code",
   "execution_count": 26,
   "metadata": {},
   "outputs": [],
   "source": [
    "y_hat = model.predict(test_data)\n",
    "y_test = test_labels"
   ]
  },
  {
   "cell_type": "code",
   "execution_count": 27,
   "metadata": {},
   "outputs": [
    {
     "data": {
      "text/plain": [
       "('F1: 0.8195660322909909',\n",
       " 'precision: 0.8302958608110669',\n",
       " 'recall: 0.8233009708737864')"
      ]
     },
     "execution_count": 27,
     "metadata": {},
     "output_type": "execute_result"
    }
   ],
   "source": [
    "def get_metrics():\n",
    "  # Converted continuous probabilities to binary to get F1 score\n",
    "    y_hate = []\n",
    "    for i in range(0,y_hat.shape[0]):\n",
    "        a = [1 if metric == y_hat[i].max() else 0 for metric in y_hat[i]]\n",
    "        y_hate.append(a)\n",
    "        y_pred = np.array(y_hate)\n",
    "  \n",
    "    return 'F1: {}'.format(f1_score(y_true=y_test, y_pred= y_pred, average = 'weighted')), \\\n",
    "    'precision: {}'.format(precision_score(y_true=y_test, y_pred= y_pred, average = 'weighted')), \\\n",
    "    'recall: {}'.format(recall_score(y_true=y_test, y_pred= y_pred, average = 'weighted')) \n",
    "\n",
    "get_metrics()"
   ]
  },
  {
   "cell_type": "code",
   "execution_count": 28,
   "metadata": {},
   "outputs": [],
   "source": [
    "y_hate = []\n",
    "for i in range(0,y_hat.shape[0]):\n",
    "    a = [1 if metric == y_hat[i].max() else 0 for metric in y_hat[i]]\n",
    "    y_hate.append(a)\n",
    "    y_pred = np.array(y_hate)"
   ]
  },
  {
   "cell_type": "code",
   "execution_count": 29,
   "metadata": {},
   "outputs": [
    {
     "name": "stdout",
     "output_type": "stream",
     "text": [
      "              precision    recall  f1-score   support\n",
      "\n",
      "           0       0.90      0.62      0.74       175\n",
      "           1       0.77      0.93      0.84       170\n",
      "           2       0.82      0.94      0.88       179\n",
      "           3       0.85      0.73      0.79       175\n",
      "           4       0.84      0.87      0.86       182\n",
      "           5       0.78      0.85      0.81       149\n",
      "\n",
      "   micro avg       0.82      0.82      0.82      1030\n",
      "   macro avg       0.83      0.82      0.82      1030\n",
      "weighted avg       0.83      0.82      0.82      1030\n",
      " samples avg       0.82      0.82      0.82      1030\n",
      "\n"
     ]
    }
   ],
   "source": [
    "classes = ['Dutch Colonial', 'Greek Revival', 'Spanish Revival', 'Tudor', 'Victorian - Queen Anne', 'Victorian - Second Empire']\n",
    "\n",
    "classification_metrics = classification_report(y_test, y_pred)\n",
    "print(classification_metrics)"
   ]
  },
  {
   "cell_type": "code",
   "execution_count": 30,
   "metadata": {},
   "outputs": [],
   "source": [
    "\n",
    "#To get better visual of the confusion matrix:\n",
    "def plot_confusion_matrix(cm, classes,\n",
    "             normalize=False,\n",
    "             title='Confusion matrix',\n",
    "             cmap=plt.cm.Blues):\n",
    "    #Add Normalization Option\n",
    "    '''prints pretty confusion metric with normalization option '''\n",
    "    if normalize:\n",
    "        cm = cm.astype('float') / cm.sum(axis=1)[:, np.newaxis]\n",
    "        print(\"Normalized confusion matrix\")\n",
    "    else:\n",
    "        print('Confusion matrix, without normalization')\n",
    "    \n",
    "#     print(cm)\n",
    "    \n",
    "    plt.imshow(cm, interpolation='nearest', cmap=cmap)\n",
    "    plt.title(title)\n",
    "    plt.colorbar()\n",
    "    tick_marks = np.arange(len(classes))\n",
    "    \n",
    "    plt.xticks(tick_marks, classes, rotation=90)\n",
    "    plt.yticks(tick_marks, classes)\n",
    "    \n",
    "    fmt = '.2f' if normalize else 'd'\n",
    "    thresh = cm.max() / 2.\n",
    "    for i, j in itertools.product(range(cm.shape[0]), range(cm.shape[1])):\n",
    "        plt.text(j, i, format(cm[i, j], fmt), horizontalalignment=\"center\", color=\"white\" if cm[i, j] > thresh else \"black\")\n",
    "\n",
    "    plt.ylabel('True label')\n",
    "    plt.xlabel('Predicted label')\n",
    "    "
   ]
  },
  {
   "cell_type": "code",
   "execution_count": 31,
   "metadata": {},
   "outputs": [
    {
     "name": "stdout",
     "output_type": "stream",
     "text": [
      "Confusion matrix, without normalization\n"
     ]
    },
    {
     "data": {
      "image/png": "[encoded data removed]",
      "text/plain": [
       "<Figure size 432x288 with 2 Axes>"
      ]
     },
     "metadata": {
      "needs_background": "light"
     },
     "output_type": "display_data"
    }
   ],
   "source": [
    "\n",
    "# Get Confusion matrix\n",
    "cm_ = confusion_matrix(y_test.argmax(axis = 1), y_pred.argmax(axis = 1))\n",
    "classes_ = ['Dutch Colonial', 'Greek Revival', 'Spanish Revival', 'Tudor', 'Victorian - Queen Anne', 'Victorian - Second Empire']\n",
    "plot_confusion_matrix(cm_, classes = classes_, normalize=False, \\\n",
    "                      title='Confusion matrix')"
   ]
  },
  {
   "cell_type": "code",
   "execution_count": 33,
   "metadata": {},
   "outputs": [
    {
     "name": "stdout",
     "output_type": "stream",
     "text": [
      "Confusion matrix, without normalization\n"
     ]
    },
    {
     "data": {
      "image/png": "[encoded data removed]",
      "text/plain": [
       "<Figure size 432x288 with 2 Axes>"
      ]
     },
     "metadata": {
      "needs_background": "light"
     },
     "output_type": "display_data"
    }
   ],
   "source": [
    "cm_ = confusion_matrix(y_test.argmax(axis = 1), y_pred.argmax(axis = 1))\n",
    "classes_ = ['Dutch Colonial', 'Greek Revival', 'Spanish Revival', 'Tudor', 'Victorian - Queen Anne', 'Victorian - Second Empire']\n",
    "plot_confusion_matrix(cm_, classes = classes_, normalize=False, \\\n",
    "                      title='Confusion matrix')"
   ]
  },
  {
   "cell_type": "code",
   "execution_count": null,
   "metadata": {},
   "outputs": [],
   "source": []
  }
 ],
 "metadata": {
  "kernelspec": {
   "display_name": "Python 3",
   "language": "python",
   "name": "python3"
  },
  "language_info": {
   "codemirror_mode": {
    "name": "ipython",
    "version": 3
   },
   "file_extension": ".py",
   "mimetype": "text/x-python",
   "name": "python",
   "nbconvert_exporter": "python",
   "pygments_lexer": "ipython3",
   "version": "3.7.1"
  }
 },
 "nbformat": 4,
 "nbformat_minor": 2
}
