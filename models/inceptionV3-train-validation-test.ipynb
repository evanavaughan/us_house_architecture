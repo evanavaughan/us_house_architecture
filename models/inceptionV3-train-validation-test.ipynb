{
 "cells": [
  {
   "cell_type": "code",
   "execution_count": 20,
   "metadata": {},
   "outputs": [],
   "source": [
    "import pandas as pd\n",
    "import numpy as np \n",
    "import itertools\n",
    "import keras\n",
    "from keras.applications.inception_v3 import InceptionV3\n",
    "from sklearn import metrics\n",
    "from sklearn.metrics import confusion_matrix\n",
    "from keras.preprocessing.image import ImageDataGenerator, img_to_array, load_img \n",
    "from keras.models import Sequential \n",
    "from keras import optimizers\n",
    "from keras.preprocessing import image\n",
    "from keras.layers import Dropout, Flatten, Dense, LeakyReLU \n",
    "from keras import applications  \n",
    "from keras.utils.np_utils import to_categorical\n",
    "from keras.callbacks import ModelCheckpoint, EarlyStopping, TensorBoard, ReduceLROnPlateau\n",
    "from keras import backend as K\n",
    "\n",
    "\n",
    "import matplotlib.pyplot as plt \n",
    "import matplotlib.image as mpimg\n",
    "%matplotlib inline\n",
    "import math  \n",
    "import datetime\n",
    "import time"
   ]
  },
  {
   "cell_type": "code",
   "execution_count": 2,
   "metadata": {},
   "outputs": [],
   "source": [
    "#Set default dimensions for model\n",
    "img_width, img_height = 299, 299  \n",
    "   \n",
    "#Create a bottleneck file\n",
    "top_model_weights_path = 'bottleneck_fc_model-inceptionV3.h5' \n",
    "\n",
    "#path for datasets\n",
    "train_data_dir = 'storage/train'  \n",
    "validation_data_dir = 'storage/valid'\n",
    "test_data_dir = 'storage/test'\n",
    "   \n",
    "# number of epochs to train top model  \n",
    "epochs = 50\n",
    "\n",
    "# batch size used by flow_from_directory and predict_generator  \n",
    "batch_size = 50"
   ]
  },
  {
   "cell_type": "code",
   "execution_count": 25,
   "metadata": {},
   "outputs": [],
   "source": [
    "inceptionV3 = InceptionV3(include_top=False, weights='imagenet')"
   ]
  },
  {
   "cell_type": "code",
   "execution_count": 10,
   "metadata": {},
   "outputs": [],
   "source": [
    "datagen = ImageDataGenerator(rescale=1. / 255,\n",
    "    featurewise_center=True,\n",
    "    featurewise_std_normalization=True,\n",
    "    rotation_range=20,\n",
    "    width_shift_range=0.2,\n",
    "    height_shift_range=0.2,\n",
    "    horizontal_flip=True)  "
   ]
  },
  {
   "cell_type": "code",
   "execution_count": 11,
   "metadata": {},
   "outputs": [
    {
     "name": "stdout",
     "output_type": "stream",
     "text": [
      "Found 3867 images belonging to 6 classes.\n",
      "Time:  0:08:33.461106\n"
     ]
    }
   ],
   "source": [
    "from PIL import ImageFile\n",
    "ImageFile.LOAD_TRUNCATED_IMAGES = True\n",
    "\n",
    "start = datetime.datetime.now()\n",
    "\n",
    "generator = datagen.flow_from_directory(\n",
    "    train_data_dir,\n",
    "    target_size=(img_width, img_height),\n",
    "    batch_size=batch_size,\n",
    "    class_mode=None,\n",
    "    shuffle=False)\n",
    "\n",
    "nb_train_samples = len(generator.filenames)\n",
    "num_classes = len(generator.class_indices)\n",
    "\n",
    "predict_size_train = int(math.ceil(nb_train_samples / batch_size))\n",
    "\n",
    "bottleneck_features_train = inceptionV3.predict_generator(generator, predict_size_train)\n",
    "\n",
    "np.save('bottleneck_features_train-inceptionV3.npy', bottleneck_features_train)\n",
    "\n",
    "end= datetime.datetime.now() \n",
    "elapsed= end-start \n",
    "print ('Time: ', elapsed)"
   ]
  },
  {
   "cell_type": "code",
   "execution_count": 12,
   "metadata": {},
   "outputs": [
    {
     "name": "stdout",
     "output_type": "stream",
     "text": [
      "Found 1030 images belonging to 6 classes.\n",
      "Time:  0:02:29.287820\n"
     ]
    }
   ],
   "source": [
    "from PIL import ImageFile\n",
    "ImageFile.LOAD_TRUNCATED_IMAGES = True\n",
    "\n",
    "start = datetime.datetime.now() \n",
    "\n",
    "datagen = ImageDataGenerator(rescale=1. / 255)\n",
    "\n",
    "generator = datagen.flow_from_directory(\n",
    "    validation_data_dir,\n",
    "    target_size=(img_width, img_height),\n",
    "    batch_size=batch_size,\n",
    "    class_mode=None,\n",
    "    shuffle=False)\n",
    "\n",
    "nb_validation_samples = len(generator.filenames)\n",
    "\n",
    "predict_size_validation = int(math.ceil(nb_validation_samples / batch_size))\n",
    "\n",
    "bottleneck_features_validation = inceptionV3.predict_generator(\n",
    "generator, predict_size_validation)\n",
    "\n",
    "np.save('bottleneck_features_validation-inceptionV3.npy', bottleneck_features_validation)\n",
    "\n",
    "end= datetime.datetime.now() \n",
    "elapsed= end-start \n",
    "print ('Time: ', elapsed)"
   ]
  },
  {
   "cell_type": "code",
   "execution_count": 13,
   "metadata": {},
   "outputs": [
    {
     "name": "stdout",
     "output_type": "stream",
     "text": [
      "Found 1018 images belonging to 6 classes.\n"
     ]
    },
    {
     "name": "stderr",
     "output_type": "stream",
     "text": [
      "/home/evan13/miniconda3/envs/tensorflow/lib/python3.6/site-packages/PIL/TiffImagePlugin.py:763: UserWarning: Possibly corrupt EXIF data.  Expecting to read 33554432 bytes but only got 0. Skipping tag 516\n",
      "  \" Skipping tag %s\" % (size, len(data), tag))\n",
      "/home/evan13/miniconda3/envs/tensorflow/lib/python3.6/site-packages/PIL/TiffImagePlugin.py:763: UserWarning: Possibly corrupt EXIF data.  Expecting to read 69337600 bytes but only got 0. Skipping tag 3072\n",
      "  \" Skipping tag %s\" % (size, len(data), tag))\n",
      "/home/evan13/miniconda3/envs/tensorflow/lib/python3.6/site-packages/PIL/TiffImagePlugin.py:763: UserWarning: Possibly corrupt EXIF data.  Expecting to read 19988480 bytes but only got 0. Skipping tag 0\n",
      "  \" Skipping tag %s\" % (size, len(data), tag))\n",
      "/home/evan13/miniconda3/envs/tensorflow/lib/python3.6/site-packages/PIL/TiffImagePlugin.py:763: UserWarning: Possibly corrupt EXIF data.  Expecting to read 2046820352 bytes but only got 0. Skipping tag 0\n",
      "  \" Skipping tag %s\" % (size, len(data), tag))\n",
      "/home/evan13/miniconda3/envs/tensorflow/lib/python3.6/site-packages/PIL/TiffImagePlugin.py:763: UserWarning: Possibly corrupt EXIF data.  Expecting to read 262144 bytes but only got 0. Skipping tag 0\n",
      "  \" Skipping tag %s\" % (size, len(data), tag))\n",
      "/home/evan13/miniconda3/envs/tensorflow/lib/python3.6/site-packages/PIL/TiffImagePlugin.py:763: UserWarning: Possibly corrupt EXIF data.  Expecting to read 196608 bytes but only got 0. Skipping tag 0\n",
      "  \" Skipping tag %s\" % (size, len(data), tag))\n",
      "/home/evan13/miniconda3/envs/tensorflow/lib/python3.6/site-packages/PIL/TiffImagePlugin.py:763: UserWarning: Possibly corrupt EXIF data.  Expecting to read 3466067968 bytes but only got 0. Skipping tag 0\n",
      "  \" Skipping tag %s\" % (size, len(data), tag))\n",
      "/home/evan13/miniconda3/envs/tensorflow/lib/python3.6/site-packages/PIL/TiffImagePlugin.py:763: UserWarning: Possibly corrupt EXIF data.  Expecting to read 131072 bytes but only got 0. Skipping tag 15\n",
      "  \" Skipping tag %s\" % (size, len(data), tag))\n",
      "/home/evan13/miniconda3/envs/tensorflow/lib/python3.6/site-packages/PIL/TiffImagePlugin.py:780: UserWarning: Corrupt EXIF data.  Expecting to read 12 bytes but only got 4. \n",
      "  warnings.warn(str(msg))\n"
     ]
    },
    {
     "name": "stdout",
     "output_type": "stream",
     "text": [
      "Time:  0:02:09.067830\n"
     ]
    }
   ],
   "source": [
    "from PIL import ImageFile\n",
    "ImageFile.LOAD_TRUNCATED_IMAGES = True\n",
    "\n",
    "start = datetime.datetime.now()\n",
    "\n",
    "datagen = ImageDataGenerator(rescale=1. / 255)\n",
    "\n",
    "generator = datagen.flow_from_directory(\n",
    "    test_data_dir,\n",
    "    target_size=(img_width, img_height),\n",
    "    batch_size=batch_size,\n",
    "    class_mode=None,\n",
    "    shuffle=False)\n",
    "\n",
    "nb_test_samples = len(generator.filenames)\n",
    "\n",
    "predict_size_test = int(math.ceil(nb_test_samples / batch_size))\n",
    "\n",
    "bottleneck_features_test = inceptionV3.predict_generator(\n",
    "generator, predict_size_test)\n",
    "\n",
    "np.save('bottleneck_features_test-inceptionV3.npy', bottleneck_features_test) \n",
    "\n",
    "end= datetime.datetime.now() \n",
    "elapsed= end-start \n",
    "print ('Time: ', elapsed)"
   ]
  },
  {
   "cell_type": "code",
   "execution_count": null,
   "metadata": {},
   "outputs": [],
   "source": []
  },
  {
   "cell_type": "code",
   "execution_count": 3,
   "metadata": {},
   "outputs": [],
   "source": [
    "datagen_top = ImageDataGenerator(rescale=1./255)"
   ]
  },
  {
   "cell_type": "code",
   "execution_count": 4,
   "metadata": {},
   "outputs": [
    {
     "name": "stdout",
     "output_type": "stream",
     "text": [
      "Found 3867 images belonging to 6 classes.\n"
     ]
    }
   ],
   "source": [
    "#training data\n",
    "generator_top = datagen_top.flow_from_directory(  \n",
    "         train_data_dir,  \n",
    "         target_size=(img_width, img_height),  \n",
    "         batch_size=batch_size,  \n",
    "         class_mode='categorical',  \n",
    "         shuffle=False)  \n",
    "   \n",
    "nb_train_samples = len(generator_top.filenames)  \n",
    "num_classes = len(generator_top.class_indices)  \n",
    "   \n",
    "# load the bottleneck features saved earlier  \n",
    "train_data = np.load('bottleneck_features_train-inceptionV3.npy')  \n",
    "   \n",
    "# get the class lebels for the training data, in the original order  \n",
    "train_labels = generator_top.classes  \n",
    "   \n",
    "# convert the training labels to categorical vectors  \n",
    "train_labels = to_categorical(train_labels, num_classes=num_classes)"
   ]
  },
  {
   "cell_type": "code",
   "execution_count": 5,
   "metadata": {},
   "outputs": [
    {
     "name": "stdout",
     "output_type": "stream",
     "text": [
      "Found 1030 images belonging to 6 classes.\n"
     ]
    }
   ],
   "source": [
    "#validation data\n",
    "generator_top = datagen_top.flow_from_directory(  \n",
    "         validation_data_dir,  \n",
    "         target_size=(img_width, img_height),  \n",
    "         batch_size=batch_size,  \n",
    "         class_mode=None,  \n",
    "         shuffle=False)  \n",
    "   \n",
    "nb_validation_samples = len(generator_top.filenames)  \n",
    "   \n",
    "validation_data = np.load('bottleneck_features_validation-inceptionV3.npy')  \n",
    "   \n",
    "\n",
    "validation_labels = generator_top.classes  \n",
    "validation_labels = to_categorical(validation_labels, num_classes=num_classes)"
   ]
  },
  {
   "cell_type": "code",
   "execution_count": 6,
   "metadata": {},
   "outputs": [
    {
     "name": "stdout",
     "output_type": "stream",
     "text": [
      "Found 1018 images belonging to 6 classes.\n"
     ]
    }
   ],
   "source": [
    "#testing data\n",
    "generator_top = datagen_top.flow_from_directory(  \n",
    "         test_data_dir,  \n",
    "         target_size=(img_width, img_height),  \n",
    "         batch_size=batch_size,  \n",
    "         class_mode=None,  \n",
    "         shuffle=False)  \n",
    "   \n",
    "nb_test_samples = len(generator_top.filenames)  \n",
    "   \n",
    "test_data = np.load('bottleneck_features_test-inceptionV3.npy')  \n",
    "   \n",
    "\n",
    "test_labels = generator_top.classes  \n",
    "test_labels = to_categorical(test_labels, num_classes=num_classes)"
   ]
  },
  {
   "cell_type": "code",
   "execution_count": 26,
   "metadata": {},
   "outputs": [
    {
     "name": "stdout",
     "output_type": "stream",
     "text": [
      "Train on 3867 samples, validate on 1030 samples\n",
      "Epoch 1/70\n",
      "3867/3867 [==============================] - 18s 5ms/step - loss: 4.2995 - acc: 0.3452 - val_loss: 0.8101 - val_acc: 0.7204\n",
      "Epoch 2/70\n",
      "3867/3867 [==============================] - 17s 4ms/step - loss: 2.7202 - acc: 0.5045 - val_loss: 0.6746 - val_acc: 0.7932\n",
      "Epoch 3/70\n",
      "3867/3867 [==============================] - 17s 4ms/step - loss: 2.4946 - acc: 0.5759 - val_loss: 0.7826 - val_acc: 0.8039\n",
      "Epoch 4/70\n",
      "3867/3867 [==============================] - 17s 4ms/step - loss: 2.1724 - acc: 0.6281 - val_loss: 0.8864 - val_acc: 0.7854\n",
      "Epoch 5/70\n",
      "3867/3867 [==============================] - 18s 5ms/step - loss: 2.0803 - acc: 0.6527 - val_loss: 0.6916 - val_acc: 0.8398\n",
      "Epoch 6/70\n",
      "3867/3867 [==============================] - 16s 4ms/step - loss: 1.9561 - acc: 0.6768 - val_loss: 1.3621 - val_acc: 0.7417\n",
      "Epoch 7/70\n",
      "3867/3867 [==============================] - 17s 4ms/step - loss: 1.7323 - acc: 0.7179 - val_loss: 1.0344 - val_acc: 0.7971\n",
      "Epoch 8/70\n",
      "3867/3867 [==============================] - 17s 4ms/step - loss: 1.6400 - acc: 0.7292 - val_loss: 0.9091 - val_acc: 0.8262\n",
      "Epoch 9/70\n",
      "3867/3867 [==============================] - 22s 6ms/step - loss: 1.4391 - acc: 0.7675 - val_loss: 0.9111 - val_acc: 0.8311\n",
      "Epoch 10/70\n",
      "3867/3867 [==============================] - 21s 5ms/step - loss: 1.4654 - acc: 0.7838 - val_loss: 1.4089 - val_acc: 0.7932\n",
      "Epoch 11/70\n",
      "3867/3867 [==============================] - 23s 6ms/step - loss: 1.0607 - acc: 0.8177 - val_loss: 0.9054 - val_acc: 0.8447\n",
      "Epoch 12/70\n",
      "3867/3867 [==============================] - 23s 6ms/step - loss: 0.7833 - acc: 0.8495 - val_loss: 0.7641 - val_acc: 0.8641\n",
      "Epoch 13/70\n",
      "3867/3867 [==============================] - 24s 6ms/step - loss: 0.6693 - acc: 0.8658 - val_loss: 0.8149 - val_acc: 0.8592\n",
      "Epoch 14/70\n",
      "3867/3867 [==============================] - 21s 5ms/step - loss: 0.6490 - acc: 0.8666 - val_loss: 0.7666 - val_acc: 0.8641\n",
      "Epoch 15/70\n",
      "3867/3867 [==============================] - 23s 6ms/step - loss: 0.5626 - acc: 0.8779 - val_loss: 0.7682 - val_acc: 0.8631\n",
      "Epoch 16/70\n",
      "3867/3867 [==============================] - 21s 5ms/step - loss: 0.5349 - acc: 0.8800 - val_loss: 0.7695 - val_acc: 0.8631\n",
      "Epoch 17/70\n",
      "3867/3867 [==============================] - 23s 6ms/step - loss: 0.4878 - acc: 0.8904 - val_loss: 0.7569 - val_acc: 0.8660\n",
      "Epoch 18/70\n",
      "3867/3867 [==============================] - 20s 5ms/step - loss: 0.5225 - acc: 0.8805 - val_loss: 0.7800 - val_acc: 0.8621\n",
      "Epoch 19/70\n",
      "3867/3867 [==============================] - 18s 5ms/step - loss: 0.4700 - acc: 0.8940 - val_loss: 0.7563 - val_acc: 0.8660\n",
      "Epoch 20/70\n",
      "3867/3867 [==============================] - 17s 4ms/step - loss: 0.4118 - acc: 0.8976 - val_loss: 0.7697 - val_acc: 0.8612\n",
      "Epoch 21/70\n",
      "3867/3867 [==============================] - 18s 5ms/step - loss: 0.4251 - acc: 0.9048 - val_loss: 0.7332 - val_acc: 0.8650\n",
      "Epoch 22/70\n",
      "3867/3867 [==============================] - 17s 4ms/step - loss: 0.4262 - acc: 0.8999 - val_loss: 0.7630 - val_acc: 0.8602\n",
      "Epoch 23/70\n",
      "3867/3867 [==============================] - 18s 5ms/step - loss: 0.4021 - acc: 0.9056 - val_loss: 0.7507 - val_acc: 0.8641\n",
      "Epoch 24/70\n",
      "3867/3867 [==============================] - 16s 4ms/step - loss: 0.3849 - acc: 0.9072 - val_loss: 0.7463 - val_acc: 0.8641\n",
      "Epoch 25/70\n",
      "3867/3867 [==============================] - 18s 5ms/step - loss: 0.3494 - acc: 0.9172 - val_loss: 0.7403 - val_acc: 0.8650\n",
      "Epoch 26/70\n",
      "3867/3867 [==============================] - 17s 4ms/step - loss: 0.3702 - acc: 0.9121 - val_loss: 0.7431 - val_acc: 0.8650\n",
      "Epoch 27/70\n",
      "3867/3867 [==============================] - 18s 5ms/step - loss: 0.3593 - acc: 0.9085 - val_loss: 0.7419 - val_acc: 0.8660\n",
      "1030/1030 [==============================] - 1s 1ms/step\n",
      "[INFO] accuracy: 86.60%\n",
      "[INFO] Loss: 0.7419033174231214\n",
      "Time:  0:08:59.707690\n"
     ]
    }
   ],
   "source": [
    "NAME = 'Inception V3 CNN-{}'.format(int(time.time()))\n",
    "\n",
    "\n",
    "#This is the best model we found. For additional models, check out I_notebook.ipynb\n",
    "start = datetime.datetime.now()\n",
    "model = Sequential()\n",
    "\n",
    "model.add(Flatten(input_shape=train_data.shape[1:]))\n",
    "\n",
    "model.add(Dense(256, activation='linear'))\n",
    "model.add(LeakyReLU(alpha=0.3))\n",
    "model.add(Dropout(0.5))\n",
    "model.add(Dense(128, activation='linear'))\n",
    "model.add(LeakyReLU(alpha=0.3))\n",
    "model.add(Dropout(0.5))  \n",
    "model.add(Dense(64, activation='linear'))\n",
    "model.add(LeakyReLU(alpha=0.3))\n",
    "model.add(Dropout(0.3)) \n",
    "model.add(Dense(num_classes, activation='softmax'))\n",
    "\n",
    "model.compile(loss='categorical_crossentropy',\n",
    "              optimizer=optimizers.RMSprop(lr=1e-4),\n",
    "              metrics=['acc'])  \n",
    "\n",
    "tensorboard = TensorBoard(log_dir='logs/{}'.format(NAME))\n",
    "reduce_lr = ReduceLROnPlateau(monitor='val_acc', factor=0.1, patience=5)\n",
    "checkpoint = ModelCheckpoint(filepath='inceptionV3.h5', monitor='val_acc', save_best_only=True)\n",
    "early_stop = EarlyStopping(monitor='acc', patience=2)\n",
    "\n",
    "history = model.fit(train_data, train_labels,\n",
    "                    epochs=70,\n",
    "                    batch_size=batch_size,\n",
    "                    validation_data=(validation_data, validation_labels),\n",
    "                    validation_split=0.2,\n",
    "                    callbacks=[tensorboard, reduce_lr, checkpoint, early_stop])  \n",
    "\n",
    "model.save_weights(top_model_weights_path)  \n",
    "\n",
    "(eval_loss, eval_accuracy) = model.evaluate(  \n",
    " validation_data, validation_labels, batch_size=batch_size, verbose=1)\n",
    "\n",
    "print(\"[INFO] accuracy: {:.2f}%\".format(eval_accuracy * 100))  \n",
    "print(\"[INFO] Loss: {}\".format(eval_loss))  \n",
    "end= datetime.datetime.now()\n",
    "elapsed= end-start\n",
    "print ('Time: ', elapsed)"
   ]
  },
  {
   "cell_type": "code",
   "execution_count": null,
   "metadata": {},
   "outputs": [],
   "source": []
  },
  {
   "cell_type": "code",
   "execution_count": null,
   "metadata": {},
   "outputs": [],
   "source": [
    "model.summary()"
   ]
  },
  {
   "cell_type": "code",
   "execution_count": null,
   "metadata": {},
   "outputs": [],
   "source": [
    "\n",
    "#Graphing our training and validation\n",
    "acc = history.history['acc']\n",
    "val_acc = history.history['val_acc']\n",
    "loss = history.history['loss']\n",
    "val_loss = history.history['val_loss']\n",
    "epochs = range(len(acc))\n",
    "plt.plot(epochs, acc, 'r', label='Training acc')\n",
    "plt.plot(epochs, val_acc, 'b', label='Validation acc')\n",
    "plt.title('InceptionV3 Training and validation accuracy')\n",
    "plt.ylabel('accuracy')  \n",
    "plt.xlabel('epoch')\n",
    "plt.legend()\n",
    "plt.figure()\n",
    "plt.plot(epochs, loss, 'r', label='Training loss')\n",
    "plt.plot(epochs, val_loss, 'b', label='Validation loss')\n",
    "plt.title('InceptionV3 Training and validation loss')\n",
    "plt.ylabel('loss')  \n",
    "plt.xlabel('epoch')\n",
    "plt.legend()\n",
    "plt.show()"
   ]
  },
  {
   "cell_type": "code",
   "execution_count": null,
   "metadata": {},
   "outputs": [],
   "source": []
  }
 ],
 "metadata": {
  "kernelspec": {
   "display_name": "Python 3",
   "language": "python",
   "name": "python3"
  },
  "language_info": {
   "codemirror_mode": {
    "name": "ipython",
    "version": 3
   },
   "file_extension": ".py",
   "mimetype": "text/x-python",
   "name": "python",
   "nbconvert_exporter": "python",
   "pygments_lexer": "ipython3",
   "version": "3.6.7"
  }
 },
 "nbformat": 4,
 "nbformat_minor": 2
}
