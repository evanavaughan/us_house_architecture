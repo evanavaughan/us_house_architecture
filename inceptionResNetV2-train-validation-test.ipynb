{
 "cells": [
  {
   "cell_type": "code",
   "execution_count": 1,
   "metadata": {},
   "outputs": [
    {
     "name": "stderr",
     "output_type": "stream",
     "text": [
      "Using TensorFlow backend.\n"
     ]
    }
   ],
   "source": [
    "import pandas as pd\n",
    "import numpy as np \n",
    "import itertools\n",
    "import keras\n",
    "from keras.applications.inception_resnet_v2 import InceptionResNetV2\n",
    "from sklearn import metrics\n",
    "from sklearn.metrics import confusion_matrix\n",
    "from keras.preprocessing.image import ImageDataGenerator, img_to_array, load_img \n",
    "from keras.models import Sequential \n",
    "from keras import optimizers\n",
    "from keras.preprocessing import image\n",
    "from keras.layers import Dropout, Flatten, Dense  \n",
    "from keras import applications  \n",
    "from keras.utils.np_utils import to_categorical\n",
    "from keras.callbacks import ModelCheckpoint, EarlyStopping\n",
    "from keras import backend as K\n",
    "\n",
    "import matplotlib.pyplot as plt \n",
    "import matplotlib.image as mpimg\n",
    "%matplotlib inline\n",
    "import math  \n",
    "import datetime\n",
    "import time"
   ]
  },
  {
   "cell_type": "code",
   "execution_count": 2,
   "metadata": {},
   "outputs": [],
   "source": [
    "#Default dimensions we found online\n",
    "img_width, img_height = 299, 299  \n",
    "   \n",
    "#Create a bottleneck file\n",
    "top_model_weights_path = 'bottleneck_fc_model-inception_resnet_v2.h5' \n",
    "\n",
    "# loading up our datasets\n",
    "train_data_dir = 'storage/train'  \n",
    "validation_data_dir = 'storage/valid'\n",
    "test_data_dir = 'storage/test'\n",
    "   \n",
    "# number of epochs to train top model  \n",
    "epochs = 20 #this has been changed after multiple model run  \n",
    "# batch size used by flow_from_directory and predict_generator  \n",
    "batch_size = 50"
   ]
  },
  {
   "cell_type": "code",
   "execution_count": 3,
   "metadata": {},
   "outputs": [],
   "source": [
    "inception_resnet_v2 = InceptionResNetV2(include_top=False, weights='imagenet')"
   ]
  },
  {
   "cell_type": "code",
   "execution_count": 4,
   "metadata": {},
   "outputs": [],
   "source": [
    "datagen = ImageDataGenerator(rescale=1. / 255,\n",
    "    featurewise_center=True,\n",
    "    featurewise_std_normalization=True,\n",
    "    rotation_range=20,\n",
    "    width_shift_range=0.2,\n",
    "    height_shift_range=0.2,\n",
    "    horizontal_flip=True)  "
   ]
  },
  {
   "cell_type": "code",
   "execution_count": null,
   "metadata": {},
   "outputs": [
    {
     "name": "stdout",
     "output_type": "stream",
     "text": [
      "Found 3867 images belonging to 6 classes.\n"
     ]
    },
    {
     "name": "stderr",
     "output_type": "stream",
     "text": [
      "/home/evan13/miniconda3/envs/tensorflow/lib/python3.6/site-packages/keras_preprocessing/image/image_data_generator.py:700: UserWarning: This ImageDataGenerator specifies `featurewise_center`, but it hasn't been fit on any training data. Fit it first by calling `.fit(numpy_data)`.\n",
      "  warnings.warn('This ImageDataGenerator specifies '\n",
      "/home/evan13/miniconda3/envs/tensorflow/lib/python3.6/site-packages/keras_preprocessing/image/image_data_generator.py:708: UserWarning: This ImageDataGenerator specifies `featurewise_std_normalization`, but it hasn't been fit on any training data. Fit it first by calling `.fit(numpy_data)`.\n",
      "  warnings.warn('This ImageDataGenerator specifies '\n"
     ]
    },
    {
     "name": "stdout",
     "output_type": "stream",
     "text": [
      "Time:  0:13:10.549699\n"
     ]
    }
   ],
   "source": [
    "from PIL import ImageFile\n",
    "ImageFile.LOAD_TRUNCATED_IMAGES = True\n",
    "\n",
    "start = datetime.datetime.now()\n",
    "\n",
    "generator = datagen.flow_from_directory(\n",
    "    train_data_dir,\n",
    "    target_size=(img_width, img_height),\n",
    "    batch_size=batch_size,\n",
    "    class_mode=None,\n",
    "    shuffle=False)\n",
    "\n",
    "nb_train_samples = len(generator.filenames)\n",
    "num_classes = len(generator.class_indices)\n",
    "\n",
    "predict_size_train = int(math.ceil(nb_train_samples / batch_size))\n",
    "\n",
    "bottleneck_features_train = inception_resnet_v2.predict_generator(generator, predict_size_train)\n",
    "\n",
    "np.save('bottleneck_features_train-inception_resnet_v2.npy', bottleneck_features_train)\n",
    "\n",
    "end= datetime.datetime.now() \n",
    "elapsed= end-start \n",
    "print ('Time: ', elapsed)"
   ]
  },
  {
   "cell_type": "code",
   "execution_count": null,
   "metadata": {},
   "outputs": [
    {
     "name": "stdout",
     "output_type": "stream",
     "text": [
      "Found 1030 images belonging to 6 classes.\n",
      "Time:  0:03:31.567432\n"
     ]
    }
   ],
   "source": [
    "from PIL import ImageFile\n",
    "ImageFile.LOAD_TRUNCATED_IMAGES = True\n",
    "\n",
    "start = datetime.datetime.now() \n",
    "\n",
    "datagen = ImageDataGenerator(rescale=1. / 255)\n",
    "\n",
    "generator = datagen.flow_from_directory(\n",
    "    validation_data_dir,\n",
    "    target_size=(img_width, img_height),\n",
    "    batch_size=batch_size,\n",
    "    class_mode=None,\n",
    "    shuffle=False)\n",
    "\n",
    "nb_validation_samples = len(generator.filenames)\n",
    "\n",
    "predict_size_validation = int(math.ceil(nb_validation_samples / batch_size))\n",
    "\n",
    "bottleneck_features_validation = inception_resnet_v2.predict_generator(\n",
    "generator, predict_size_validation)\n",
    "\n",
    "np.save('bottleneck_features_validation-inception_resnet_v2.npy', bottleneck_features_validation)\n",
    "\n",
    "end= datetime.datetime.now() \n",
    "elapsed= end-start \n",
    "print ('Time: ', elapsed)"
   ]
  },
  {
   "cell_type": "code",
   "execution_count": null,
   "metadata": {},
   "outputs": [
    {
     "name": "stdout",
     "output_type": "stream",
     "text": [
      "Found 1018 images belonging to 6 classes.\n"
     ]
    },
    {
     "name": "stderr",
     "output_type": "stream",
     "text": [
      "/home/evan13/miniconda3/envs/tensorflow/lib/python3.6/site-packages/PIL/TiffImagePlugin.py:763: UserWarning: Possibly corrupt EXIF data.  Expecting to read 33554432 bytes but only got 0. Skipping tag 516\n",
      "  \" Skipping tag %s\" % (size, len(data), tag))\n",
      "/home/evan13/miniconda3/envs/tensorflow/lib/python3.6/site-packages/PIL/TiffImagePlugin.py:763: UserWarning: Possibly corrupt EXIF data.  Expecting to read 69337600 bytes but only got 0. Skipping tag 3072\n",
      "  \" Skipping tag %s\" % (size, len(data), tag))\n",
      "/home/evan13/miniconda3/envs/tensorflow/lib/python3.6/site-packages/PIL/TiffImagePlugin.py:763: UserWarning: Possibly corrupt EXIF data.  Expecting to read 19988480 bytes but only got 0. Skipping tag 0\n",
      "  \" Skipping tag %s\" % (size, len(data), tag))\n",
      "/home/evan13/miniconda3/envs/tensorflow/lib/python3.6/site-packages/PIL/TiffImagePlugin.py:763: UserWarning: Possibly corrupt EXIF data.  Expecting to read 2046820352 bytes but only got 0. Skipping tag 0\n",
      "  \" Skipping tag %s\" % (size, len(data), tag))\n",
      "/home/evan13/miniconda3/envs/tensorflow/lib/python3.6/site-packages/PIL/TiffImagePlugin.py:763: UserWarning: Possibly corrupt EXIF data.  Expecting to read 262144 bytes but only got 0. Skipping tag 0\n",
      "  \" Skipping tag %s\" % (size, len(data), tag))\n",
      "/home/evan13/miniconda3/envs/tensorflow/lib/python3.6/site-packages/PIL/TiffImagePlugin.py:763: UserWarning: Possibly corrupt EXIF data.  Expecting to read 196608 bytes but only got 0. Skipping tag 0\n",
      "  \" Skipping tag %s\" % (size, len(data), tag))\n",
      "/home/evan13/miniconda3/envs/tensorflow/lib/python3.6/site-packages/PIL/TiffImagePlugin.py:763: UserWarning: Possibly corrupt EXIF data.  Expecting to read 3466067968 bytes but only got 0. Skipping tag 0\n",
      "  \" Skipping tag %s\" % (size, len(data), tag))\n",
      "/home/evan13/miniconda3/envs/tensorflow/lib/python3.6/site-packages/PIL/TiffImagePlugin.py:763: UserWarning: Possibly corrupt EXIF data.  Expecting to read 131072 bytes but only got 0. Skipping tag 15\n",
      "  \" Skipping tag %s\" % (size, len(data), tag))\n",
      "/home/evan13/miniconda3/envs/tensorflow/lib/python3.6/site-packages/PIL/TiffImagePlugin.py:780: UserWarning: Corrupt EXIF data.  Expecting to read 12 bytes but only got 4. \n",
      "  warnings.warn(str(msg))\n"
     ]
    },
    {
     "name": "stdout",
     "output_type": "stream",
     "text": [
      "Time:  0:03:23.493019\n"
     ]
    }
   ],
   "source": [
    "from PIL import ImageFile\n",
    "ImageFile.LOAD_TRUNCATED_IMAGES = True\n",
    "\n",
    "start = datetime.datetime.now()\n",
    "\n",
    "datagen = ImageDataGenerator(rescale=1. / 255)\n",
    "\n",
    "generator = datagen.flow_from_directory(\n",
    "    test_data_dir,\n",
    "    target_size=(img_width, img_height),\n",
    "    batch_size=batch_size,\n",
    "    class_mode=None,\n",
    "    shuffle=False)\n",
    "\n",
    "nb_test_samples = len(generator.filenames)\n",
    "\n",
    "predict_size_test = int(math.ceil(nb_test_samples / batch_size))\n",
    "\n",
    "bottleneck_features_test = inception_resnet_v2.predict_generator(\n",
    "generator, predict_size_test)\n",
    "\n",
    "np.save('bottleneck_features_test-inception_resnet_v2.npy', bottleneck_features_test) \n",
    "\n",
    "end= datetime.datetime.now() \n",
    "elapsed= end-start \n",
    "print ('Time: ', elapsed)"
   ]
  },
  {
   "cell_type": "code",
   "execution_count": null,
   "metadata": {},
   "outputs": [],
   "source": []
  },
  {
   "cell_type": "code",
   "execution_count": null,
   "metadata": {},
   "outputs": [],
   "source": [
    "datagen_top = ImageDataGenerator(rescale=1./255)"
   ]
  },
  {
   "cell_type": "code",
   "execution_count": null,
   "metadata": {},
   "outputs": [
    {
     "name": "stdout",
     "output_type": "stream",
     "text": [
      "Found 3867 images belonging to 6 classes.\n"
     ]
    }
   ],
   "source": [
    "#training data\n",
    "generator_top = datagen_top.flow_from_directory(  \n",
    "         train_data_dir,  \n",
    "         target_size=(img_width, img_height),  \n",
    "         batch_size=batch_size,  \n",
    "         class_mode='categorical',  \n",
    "         shuffle=False)  \n",
    "   \n",
    "nb_train_samples = len(generator_top.filenames)  \n",
    "num_classes = len(generator_top.class_indices)  \n",
    "   \n",
    "# load the bottleneck features saved earlier  \n",
    "train_data = np.load('bottleneck_features_train-inception_resnet_v2.npy')  \n",
    "   \n",
    "# get the class lebels for the training data, in the original order  \n",
    "train_labels = generator_top.classes  \n",
    "   \n",
    "# convert the training labels to categorical vectors  \n",
    "train_labels = to_categorical(train_labels, num_classes=num_classes)"
   ]
  },
  {
   "cell_type": "code",
   "execution_count": null,
   "metadata": {},
   "outputs": [
    {
     "name": "stdout",
     "output_type": "stream",
     "text": [
      "Found 1030 images belonging to 6 classes.\n"
     ]
    }
   ],
   "source": [
    "#validation data\n",
    "generator_top = datagen_top.flow_from_directory(  \n",
    "         validation_data_dir,  \n",
    "         target_size=(img_width, img_height),  \n",
    "         batch_size=batch_size,  \n",
    "         class_mode=None,  \n",
    "         shuffle=False)  \n",
    "   \n",
    "nb_validation_samples = len(generator_top.filenames)  \n",
    "   \n",
    "validation_data = np.load('bottleneck_features_validation-inception_resnet_v2.npy')  \n",
    "   \n",
    "\n",
    "validation_labels = generator_top.classes  \n",
    "validation_labels = to_categorical(validation_labels, num_classes=num_classes)"
   ]
  },
  {
   "cell_type": "code",
   "execution_count": null,
   "metadata": {},
   "outputs": [
    {
     "name": "stdout",
     "output_type": "stream",
     "text": [
      "Found 1018 images belonging to 6 classes.\n"
     ]
    }
   ],
   "source": [
    "#testing data\n",
    "generator_top = datagen_top.flow_from_directory(  \n",
    "         test_data_dir,  \n",
    "         target_size=(img_width, img_height),  \n",
    "         batch_size=batch_size,  \n",
    "         class_mode=None,  \n",
    "         shuffle=False)  \n",
    "   \n",
    "nb_test_samples = len(generator_top.filenames)  \n",
    "   \n",
    "test_data = np.load('bottleneck_features_test-inception_resnet_v2.npy')  \n",
    "   \n",
    "\n",
    "test_labels = generator_top.classes  \n",
    "test_labels = to_categorical(test_labels, num_classes=num_classes)"
   ]
  },
  {
   "cell_type": "code",
   "execution_count": null,
   "metadata": {},
   "outputs": [
    {
     "name": "stderr",
     "output_type": "stream",
     "text": [
      "/home/evan13/miniconda3/envs/tensorflow/lib/python3.6/site-packages/keras/activations.py:211: UserWarning: Do not pass a layer instance (such as LeakyReLU) as the activation argument of another layer. Instead, advanced activation layers should be used just like any other layer in a model.\n",
      "  identifier=identifier.__class__.__name__))\n"
     ]
    },
    {
     "name": "stdout",
     "output_type": "stream",
     "text": [
      "Train on 3867 samples, validate on 1030 samples\n",
      "Epoch 1/100\n",
      "3867/3867 [==============================] - 39s 10ms/step - loss: 4.2522 - acc: 0.3486 - val_loss: 1.5807 - val_acc: 0.6243\n",
      "Epoch 2/100\n",
      "3867/3867 [==============================] - 23s 6ms/step - loss: 2.5429 - acc: 0.5268 - val_loss: 1.2693 - val_acc: 0.7204\n",
      "Epoch 3/100\n",
      "3867/3867 [==============================] - 23s 6ms/step - loss: 2.4344 - acc: 0.5627 - val_loss: 1.0375 - val_acc: 0.7796\n",
      "Epoch 4/100\n",
      "3867/3867 [==============================] - 23s 6ms/step - loss: 2.2033 - acc: 0.6160 - val_loss: 1.2666 - val_acc: 0.7534\n",
      "Epoch 5/100\n",
      "3867/3867 [==============================] - 33s 8ms/step - loss: 2.0120 - acc: 0.6475 - val_loss: 1.1541 - val_acc: 0.7825\n",
      "Epoch 6/100\n",
      "3867/3867 [==============================] - 34s 9ms/step - loss: 1.8769 - acc: 0.6822 - val_loss: 1.0731 - val_acc: 0.7883\n",
      "Epoch 7/100\n",
      "3867/3867 [==============================] - 34s 9ms/step - loss: 1.6667 - acc: 0.7148 - val_loss: 1.0904 - val_acc: 0.8010\n",
      "Epoch 8/100\n",
      "3867/3867 [==============================] - 34s 9ms/step - loss: 1.7330 - acc: 0.7109 - val_loss: 1.1384 - val_acc: 0.8068\n",
      "Epoch 9/100\n",
      "3867/3867 [==============================] - 34s 9ms/step - loss: 1.5485 - acc: 0.7277 - val_loss: 1.0647 - val_acc: 0.8184\n",
      "Epoch 10/100\n",
      "3867/3867 [==============================] - 34s 9ms/step - loss: 1.4948 - acc: 0.7471 - val_loss: 1.0329 - val_acc: 0.8194\n",
      "Epoch 11/100\n",
      "3867/3867 [==============================] - 35s 9ms/step - loss: 1.3859 - acc: 0.7600 - val_loss: 1.1302 - val_acc: 0.8233\n",
      "Epoch 12/100\n",
      "3867/3867 [==============================] - 34s 9ms/step - loss: 1.3436 - acc: 0.7830 - val_loss: 1.1389 - val_acc: 0.8233\n",
      "Epoch 13/100\n",
      "3867/3867 [==============================] - 35s 9ms/step - loss: 1.2353 - acc: 0.7923 - val_loss: 1.0069 - val_acc: 0.8320\n",
      "Epoch 14/100\n",
      "3867/3867 [==============================] - 34s 9ms/step - loss: 1.1575 - acc: 0.8045 - val_loss: 1.2630 - val_acc: 0.8262\n",
      "Epoch 15/100\n",
      "3867/3867 [==============================] - 35s 9ms/step - loss: 1.1431 - acc: 0.8213 - val_loss: 1.7264 - val_acc: 0.7883\n",
      "Epoch 16/100\n",
      "3867/3867 [==============================] - 34s 9ms/step - loss: 1.0897 - acc: 0.8332 - val_loss: 0.9612 - val_acc: 0.8592\n",
      "Epoch 17/100\n",
      "3867/3867 [==============================] - 25s 7ms/step - loss: 1.0177 - acc: 0.8280 - val_loss: 0.9273 - val_acc: 0.8631\n",
      "Epoch 18/100\n",
      "3867/3867 [==============================] - 32s 8ms/step - loss: 0.9824 - acc: 0.8394 - val_loss: 1.3359 - val_acc: 0.8165\n",
      "Epoch 19/100\n",
      "3867/3867 [==============================] - 34s 9ms/step - loss: 0.8963 - acc: 0.8510 - val_loss: 1.1354 - val_acc: 0.8398\n",
      "Epoch 20/100\n",
      "3867/3867 [==============================] - 35s 9ms/step - loss: 0.8114 - acc: 0.8645 - val_loss: 1.1342 - val_acc: 0.8505\n",
      "Epoch 21/100\n",
      "3867/3867 [==============================] - 34s 9ms/step - loss: 0.8274 - acc: 0.8616 - val_loss: 1.2196 - val_acc: 0.8369\n",
      "Epoch 22/100\n",
      "3867/3867 [==============================] - 35s 9ms/step - loss: 0.7775 - acc: 0.8681 - val_loss: 1.1463 - val_acc: 0.8495\n",
      "Epoch 23/100\n",
      "3867/3867 [==============================] - 34s 9ms/step - loss: 0.7462 - acc: 0.8821 - val_loss: 1.2292 - val_acc: 0.8437\n",
      "Epoch 24/100\n",
      "3867/3867 [==============================] - 34s 9ms/step - loss: 0.8068 - acc: 0.8792 - val_loss: 1.6984 - val_acc: 0.8204\n",
      "Epoch 25/100\n",
      "3867/3867 [==============================] - 35s 9ms/step - loss: 0.6779 - acc: 0.8847 - val_loss: 1.3455 - val_acc: 0.8447\n",
      "Epoch 26/100\n",
      "3867/3867 [==============================] - 34s 9ms/step - loss: 0.6536 - acc: 0.8966 - val_loss: 1.2214 - val_acc: 0.8544\n",
      "Epoch 27/100\n",
      "3867/3867 [==============================] - 34s 9ms/step - loss: 0.6641 - acc: 0.9025 - val_loss: 1.2837 - val_acc: 0.8379\n",
      "Epoch 28/100\n",
      "3867/3867 [==============================] - 34s 9ms/step - loss: 0.6519 - acc: 0.9007 - val_loss: 1.3661 - val_acc: 0.8583\n",
      "Epoch 29/100\n",
      "3867/3867 [==============================] - 33s 9ms/step - loss: 0.6931 - acc: 0.9007 - val_loss: 1.4235 - val_acc: 0.8417\n",
      "Epoch 30/100\n",
      "3867/3867 [==============================] - 23s 6ms/step - loss: 0.6413 - acc: 0.9015 - val_loss: 1.6947 - val_acc: 0.8282\n",
      "Epoch 31/100\n",
      "3867/3867 [==============================] - 23s 6ms/step - loss: 0.5409 - acc: 0.9183 - val_loss: 1.4630 - val_acc: 0.8320\n",
      "Epoch 32/100\n",
      "3867/3867 [==============================] - 29s 8ms/step - loss: 0.5368 - acc: 0.9167 - val_loss: 1.3078 - val_acc: 0.8602\n",
      "Epoch 33/100\n",
      "3867/3867 [==============================] - 30s 8ms/step - loss: 0.5378 - acc: 0.9206 - val_loss: 1.1340 - val_acc: 0.8757\n",
      "Epoch 34/100\n",
      "3867/3867 [==============================] - 30s 8ms/step - loss: 0.5108 - acc: 0.9250 - val_loss: 1.2371 - val_acc: 0.8650\n",
      "Epoch 35/100\n",
      "3867/3867 [==============================] - 30s 8ms/step - loss: 0.4953 - acc: 0.9242 - val_loss: 1.5363 - val_acc: 0.8350\n",
      "Epoch 36/100\n",
      "3867/3867 [==============================] - 28s 7ms/step - loss: 0.4360 - acc: 0.9356 - val_loss: 1.3488 - val_acc: 0.8621\n",
      "Epoch 37/100\n",
      "3867/3867 [==============================] - 31s 8ms/step - loss: 0.4397 - acc: 0.9312 - val_loss: 1.4317 - val_acc: 0.8485\n",
      "Epoch 38/100\n",
      "3867/3867 [==============================] - 30s 8ms/step - loss: 0.4529 - acc: 0.9333 - val_loss: 1.2763 - val_acc: 0.8631\n",
      "Epoch 39/100\n",
      "3867/3867 [==============================] - 30s 8ms/step - loss: 0.4494 - acc: 0.9387 - val_loss: 1.4364 - val_acc: 0.8417\n",
      "Epoch 40/100\n",
      "3867/3867 [==============================] - 27s 7ms/step - loss: 0.4865 - acc: 0.9315 - val_loss: 1.2798 - val_acc: 0.8641\n",
      "Epoch 41/100\n",
      "3867/3867 [==============================] - 24s 6ms/step - loss: 0.4862 - acc: 0.9333 - val_loss: 1.6739 - val_acc: 0.8447\n",
      "Epoch 42/100\n",
      "3867/3867 [==============================] - 23s 6ms/step - loss: 0.3920 - acc: 0.9462 - val_loss: 1.3127 - val_acc: 0.8689\n",
      "Epoch 43/100\n",
      "3867/3867 [==============================] - 23s 6ms/step - loss: 0.3986 - acc: 0.9390 - val_loss: 2.0275 - val_acc: 0.8126\n",
      "Epoch 44/100\n",
      "3867/3867 [==============================] - 23s 6ms/step - loss: 0.4077 - acc: 0.9454 - val_loss: 1.4399 - val_acc: 0.8602\n",
      "Epoch 45/100\n",
      "3867/3867 [==============================] - 23s 6ms/step - loss: 0.3746 - acc: 0.9501 - val_loss: 1.4912 - val_acc: 0.8485\n",
      "Epoch 46/100\n",
      "3867/3867 [==============================] - 23s 6ms/step - loss: 0.3622 - acc: 0.9475 - val_loss: 1.4802 - val_acc: 0.8602\n",
      "Epoch 47/100\n",
      "3867/3867 [==============================] - 23s 6ms/step - loss: 0.3059 - acc: 0.9537 - val_loss: 1.5259 - val_acc: 0.8524\n",
      "Epoch 48/100\n",
      "3867/3867 [==============================] - 23s 6ms/step - loss: 0.3056 - acc: 0.9537 - val_loss: 1.3937 - val_acc: 0.8631\n",
      "Epoch 49/100\n",
      "3867/3867 [==============================] - 23s 6ms/step - loss: 0.3500 - acc: 0.9506 - val_loss: 1.6954 - val_acc: 0.8476\n",
      "Epoch 50/100\n",
      "3867/3867 [==============================] - 23s 6ms/step - loss: 0.2927 - acc: 0.9591 - val_loss: 1.5766 - val_acc: 0.8544\n",
      "Epoch 51/100\n",
      "3867/3867 [==============================] - 23s 6ms/step - loss: 0.3403 - acc: 0.9524 - val_loss: 2.0167 - val_acc: 0.8262\n",
      "Epoch 52/100\n",
      "3867/3867 [==============================] - 23s 6ms/step - loss: 0.3169 - acc: 0.9566 - val_loss: 1.3728 - val_acc: 0.8631\n",
      "Epoch 53/100\n",
      "3867/3867 [==============================] - 23s 6ms/step - loss: 0.3250 - acc: 0.9511 - val_loss: 1.5503 - val_acc: 0.8544\n",
      "Epoch 54/100\n",
      "3867/3867 [==============================] - 23s 6ms/step - loss: 0.2927 - acc: 0.9581 - val_loss: 1.5220 - val_acc: 0.8631\n",
      "Epoch 55/100\n",
      "3867/3867 [==============================] - 23s 6ms/step - loss: 0.2675 - acc: 0.9617 - val_loss: 1.5488 - val_acc: 0.8563\n",
      "Epoch 56/100\n",
      "3867/3867 [==============================] - 23s 6ms/step - loss: 0.3614 - acc: 0.9488 - val_loss: 2.2115 - val_acc: 0.8087\n",
      "Epoch 57/100\n",
      "3867/3867 [==============================] - 23s 6ms/step - loss: 0.3292 - acc: 0.9584 - val_loss: 1.6539 - val_acc: 0.8398\n",
      "Epoch 58/100\n",
      "3867/3867 [==============================] - 23s 6ms/step - loss: 0.2698 - acc: 0.9597 - val_loss: 1.6121 - val_acc: 0.8534\n",
      "Epoch 59/100\n",
      "3867/3867 [==============================] - 23s 6ms/step - loss: 0.2916 - acc: 0.9615 - val_loss: 1.3937 - val_acc: 0.8660\n",
      "Epoch 60/100\n",
      "3867/3867 [==============================] - 23s 6ms/step - loss: 0.2552 - acc: 0.9682 - val_loss: 1.4353 - val_acc: 0.8718\n",
      "Epoch 61/100\n",
      "3867/3867 [==============================] - 23s 6ms/step - loss: 0.2787 - acc: 0.9617 - val_loss: 1.6017 - val_acc: 0.8650\n",
      "Epoch 62/100\n",
      "3867/3867 [==============================] - 23s 6ms/step - loss: 0.3047 - acc: 0.9643 - val_loss: 1.4384 - val_acc: 0.8689\n",
      "Epoch 63/100\n",
      "3867/3867 [==============================] - 23s 6ms/step - loss: 0.2670 - acc: 0.9638 - val_loss: 1.4590 - val_acc: 0.8650\n",
      "Epoch 64/100\n",
      "3867/3867 [==============================] - 23s 6ms/step - loss: 0.3101 - acc: 0.9625 - val_loss: 1.7352 - val_acc: 0.8476\n",
      "Epoch 65/100\n",
      "3867/3867 [==============================] - 23s 6ms/step - loss: 0.2759 - acc: 0.9648 - val_loss: 1.5438 - val_acc: 0.8621\n",
      "Epoch 66/100\n",
      "3867/3867 [==============================] - 23s 6ms/step - loss: 0.2794 - acc: 0.9641 - val_loss: 1.7299 - val_acc: 0.8466\n",
      "Epoch 67/100\n",
      "3867/3867 [==============================] - 23s 6ms/step - loss: 0.2608 - acc: 0.9661 - val_loss: 1.5977 - val_acc: 0.8592\n",
      "Epoch 68/100\n",
      "3867/3867 [==============================] - 23s 6ms/step - loss: 0.2225 - acc: 0.9728 - val_loss: 1.5190 - val_acc: 0.8728\n",
      "Epoch 69/100\n",
      "3867/3867 [==============================] - 24s 6ms/step - loss: 0.2683 - acc: 0.9648 - val_loss: 1.7974 - val_acc: 0.8485\n",
      "Epoch 70/100\n",
      "3867/3867 [==============================] - 23s 6ms/step - loss: 0.3090 - acc: 0.9602 - val_loss: 1.8366 - val_acc: 0.8524\n",
      "Epoch 71/100\n",
      "3867/3867 [==============================] - 23s 6ms/step - loss: 0.2730 - acc: 0.9664 - val_loss: 1.5978 - val_acc: 0.8592\n",
      "Epoch 72/100\n",
      "3867/3867 [==============================] - 23s 6ms/step - loss: 0.2850 - acc: 0.9641 - val_loss: 1.8606 - val_acc: 0.8437\n",
      "Epoch 73/100\n",
      "3867/3867 [==============================] - 24s 6ms/step - loss: 0.2476 - acc: 0.9669 - val_loss: 2.0391 - val_acc: 0.8311\n",
      "Epoch 74/100\n",
      "3867/3867 [==============================] - 27s 7ms/step - loss: 0.2579 - acc: 0.9692 - val_loss: 1.5743 - val_acc: 0.8553\n",
      "Epoch 75/100\n",
      "3867/3867 [==============================] - 31s 8ms/step - loss: 0.2365 - acc: 0.9723 - val_loss: 1.5019 - val_acc: 0.8680\n",
      "Epoch 76/100\n",
      "3867/3867 [==============================] - 30s 8ms/step - loss: 0.2799 - acc: 0.9661 - val_loss: 1.5520 - val_acc: 0.8680\n",
      "Epoch 77/100\n",
      "3867/3867 [==============================] - 29s 8ms/step - loss: 0.2509 - acc: 0.9687 - val_loss: 1.8770 - val_acc: 0.8456\n",
      "Epoch 78/100\n",
      "3867/3867 [==============================] - 30s 8ms/step - loss: 0.2549 - acc: 0.9685 - val_loss: 1.8176 - val_acc: 0.8515\n",
      "Epoch 79/100\n",
      "3867/3867 [==============================] - 30s 8ms/step - loss: 0.2110 - acc: 0.9765 - val_loss: 1.9000 - val_acc: 0.8456\n",
      "Epoch 80/100\n",
      "3867/3867 [==============================] - 30s 8ms/step - loss: 0.2222 - acc: 0.9721 - val_loss: 1.7858 - val_acc: 0.8456\n",
      "Epoch 81/100\n",
      "3867/3867 [==============================] - 29s 8ms/step - loss: 0.1782 - acc: 0.9749 - val_loss: 1.9888 - val_acc: 0.8340\n",
      "Epoch 82/100\n",
      "3867/3867 [==============================] - 30s 8ms/step - loss: 0.2398 - acc: 0.9708 - val_loss: 1.9454 - val_acc: 0.8456\n",
      "Epoch 83/100\n",
      "3867/3867 [==============================] - 30s 8ms/step - loss: 0.2327 - acc: 0.9705 - val_loss: 1.7835 - val_acc: 0.8563\n",
      "Epoch 84/100\n",
      "3867/3867 [==============================] - 30s 8ms/step - loss: 0.1802 - acc: 0.9770 - val_loss: 2.0124 - val_acc: 0.8417\n",
      "Epoch 85/100\n",
      "3867/3867 [==============================] - 29s 7ms/step - loss: 0.2264 - acc: 0.9705 - val_loss: 1.8968 - val_acc: 0.8505\n",
      "Epoch 86/100\n",
      "3867/3867 [==============================] - 31s 8ms/step - loss: 0.1899 - acc: 0.9731 - val_loss: 1.8726 - val_acc: 0.8544\n",
      "Epoch 87/100\n",
      "3867/3867 [==============================] - 30s 8ms/step - loss: 0.1906 - acc: 0.9752 - val_loss: 1.8666 - val_acc: 0.8485\n",
      "Epoch 88/100\n",
      "3867/3867 [==============================] - 30s 8ms/step - loss: 0.2003 - acc: 0.9770 - val_loss: 1.5859 - val_acc: 0.8641\n",
      "Epoch 89/100\n",
      "3867/3867 [==============================] - 25s 6ms/step - loss: 0.2220 - acc: 0.9736 - val_loss: 1.6628 - val_acc: 0.8612\n",
      "Epoch 90/100\n",
      "3867/3867 [==============================] - 23s 6ms/step - loss: 0.1863 - acc: 0.9788 - val_loss: 1.5937 - val_acc: 0.8660\n",
      "Epoch 91/100\n",
      "3867/3867 [==============================] - 23s 6ms/step - loss: 0.2329 - acc: 0.9741 - val_loss: 1.8983 - val_acc: 0.8466\n",
      "Epoch 92/100\n",
      "3450/3867 [=========================>....] - ETA: 2s - loss: 0.2027 - acc: 0.9736"
     ]
    }
   ],
   "source": [
    "\n",
    "#This is the best model we found. For additional models, check out I_notebook.ipynb\n",
    "start = datetime.datetime.now()\n",
    "model = Sequential()\n",
    "\n",
    "model.add(Flatten(input_shape=train_data.shape[1:]))\n",
    "model.add(Dense(500, activation=keras.layers.LeakyReLU(alpha=0.3)))\n",
    "model.add(Dropout(0.5)) \n",
    "model.add(Dense(100, activation=keras.layers.LeakyReLU(alpha=0.3)))  \n",
    "model.add(Dropout(0.5))  \n",
    "model.add(Dense(50, activation=keras.layers.LeakyReLU(alpha=0.3)))  \n",
    "model.add(Dropout(0.3)) \n",
    "model.add(Dense(num_classes, activation='softmax'))\n",
    "\n",
    "model.compile(loss='categorical_crossentropy',\n",
    "              optimizer=optimizers.RMSprop(lr=1e-4),\n",
    "              metrics=['acc'])  \n",
    "\n",
    "history = model.fit(train_data, train_labels,\n",
    "                    epochs=100,\n",
    "                    batch_size=batch_size,\n",
    "                    validation_data=(validation_data, validation_labels))  \n",
    "\n",
    "model.save_weights(top_model_weights_path)  \n",
    "\n",
    "(eval_loss, eval_accuracy) = model.evaluate(  \n",
    " validation_data, validation_labels, batch_size=batch_size, verbose=1)\n",
    "\n",
    "print(\"[INFO] accuracy: {:.2f}%\".format(eval_accuracy * 100))  \n",
    "print(\"[INFO] Loss: {}\".format(eval_loss))  \n",
    "end= datetime.datetime.now()\n",
    "elapsed= end-start\n",
    "print ('Time: ', elapsed)"
   ]
  },
  {
   "cell_type": "code",
   "execution_count": null,
   "metadata": {},
   "outputs": [],
   "source": []
  },
  {
   "cell_type": "code",
   "execution_count": null,
   "metadata": {},
   "outputs": [],
   "source": [
    "model.summary()"
   ]
  },
  {
   "cell_type": "code",
   "execution_count": null,
   "metadata": {},
   "outputs": [],
   "source": [
    "\n",
    "#Graphing our training and validation\n",
    "acc = history.history['acc']\n",
    "val_acc = history.history['val_acc']\n",
    "loss = history.history['loss']\n",
    "val_loss = history.history['val_loss']\n",
    "epochs = range(len(acc))\n",
    "plt.plot(epochs, acc, 'r', label='Training acc')\n",
    "plt.plot(epochs, val_acc, 'b', label='Validation acc')\n",
    "plt.title('Inception-ResNet V2 Training and validation accuracy')\n",
    "plt.ylabel('accuracy')  \n",
    "plt.xlabel('epoch')\n",
    "plt.legend()\n",
    "plt.figure()\n",
    "plt.plot(epochs, loss, 'r', label='Training loss')\n",
    "plt.plot(epochs, val_loss, 'b', label='Validation loss')\n",
    "plt.title('Inception-ResNet V2 Training and validation loss')\n",
    "plt.ylabel('loss')  \n",
    "plt.xlabel('epoch')\n",
    "plt.legend()\n",
    "plt.show()"
   ]
  },
  {
   "cell_type": "code",
   "execution_count": null,
   "metadata": {},
   "outputs": [],
   "source": []
  },
  {
   "cell_type": "code",
   "execution_count": null,
   "metadata": {},
   "outputs": [],
   "source": []
  }
 ],
 "metadata": {
  "kernelspec": {
   "display_name": "Python 3",
   "language": "python",
   "name": "python3"
  },
  "language_info": {
   "codemirror_mode": {
    "name": "ipython",
    "version": 3
   },
   "file_extension": ".py",
   "mimetype": "text/x-python",
   "name": "python",
   "nbconvert_exporter": "python",
   "pygments_lexer": "ipython3",
   "version": "3.7.1"
  }
 },
 "nbformat": 4,
 "nbformat_minor": 2
}
